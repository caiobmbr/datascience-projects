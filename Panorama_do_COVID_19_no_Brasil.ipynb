{
  "nbformat": 4,
  "nbformat_minor": 0,
  "metadata": {
    "colab": {
      "name": "Panorama do COVID-19 no Brasil.ipynb",
      "provenance": [],
      "collapsed_sections": [],
      "toc_visible": true,
      "include_colab_link": true
    },
    "kernelspec": {
      "name": "python3",
      "display_name": "Python 3"
    }
  },
  "cells": [
    {
      "cell_type": "markdown",
      "metadata": {
        "id": "view-in-github",
        "colab_type": "text"
      },
      "source": [
        "<a href=\"https://colab.research.google.com/github/caiobmbr/datascience-projects/blob/master/Panorama_do_COVID_19_no_Brasil.ipynb\" target=\"_parent\"><img src=\"https://colab.research.google.com/assets/colab-badge.svg\" alt=\"Open In Colab\"/></a>"
      ]
    },
    {
      "cell_type": "markdown",
      "metadata": {
        "id": "-eFQZydM9O9J",
        "colab_type": "text"
      },
      "source": [
        "<img alt=\"Colaboratory logo\"  width=\"80%\" src=\"https://raw.githubusercontent.com/caiobmbr/datascience-projects/master/banner_v1.0.png\">\n",
        "\n",
        "**Data Science na Prática 2.0.**\n",
        "by [Caio Melo](https://github.com/caiobmbr/datascience-projects)\n",
        "\n",
        "# Panorama do COVID-19 no Brasil\n",
        "---\n",
        "COVID-19 é uma doença infecciosa causada por recém-descoberto coronavírus.\n",
        "\n",
        "Transmitido principalmente por meio de gotículas provenientes de tosses ou espirros de pessoas infectadas, a gravidade dos sintomas varia muito de pessoa para pessoa.\n",
        "\n",
        "Fato é, não se sabe muita coisa a respeito do COVID-19. Estudos estão sendo realizados no mundo todo, porém os resultados ainda não são conclusivos e definitivos.\n",
        "\n",
        "<center><img alt=\"Colaboratory logo\" width=\"80%\" src=\"https://images.unsplash.com/photo-1584036561566-baf8f5f1b144?ixlib=rb-1.2.1&ixid=eyJhcHBfaWQiOjEyMDd9&auto=format&fit=crop&w=1189&q=80\"></center>\n",
        "\n",
        "Até o presente momento, observa-se que cerca de 80% dos casos confirmados são assintomáticos e rápidos. A maioria das pessoas que se encaixam nesse grupo, se recupera sem nenhuma sequela.\n",
        "\n",
        "No entanto, 15% das pessoas terão infecções graves e precisarão de oxigênio. O restante das pessoas, que representam 5%, serão classificadas como infecções muito graves e precisarão de ventilação assistida, por meio de respiradores mecânicos em ambiente hospitalar.\n",
        "\n",
        "Com o objetivo de elevar a consciência situacional a respeito do COVID-19 no Brasil, especialmente devido à não estarmos em tendência de redução de casos, iremos analisar os dados públicos da doença.\n",
        "  "
      ]
    },
    {
      "cell_type": "markdown",
      "metadata": {
        "id": "0zxQHhIUDF_2",
        "colab_type": "text"
      },
      "source": [
        "## Obtenção dos Dados\n",
        "\n",
        "Dados sobre a COVID-19 são um desafio por si só devido à dificuldade de alinhamento entre a forma de apuração dos dados e cálculo das métricas entre os países. Não existe um direcionamento único para todos os países em relação à contabilização dos casos, até por ser uma situação sem precedentes na nossa história recente. Alia-se à essa situação a **baixa quantidade de testes da doença** que alguns países estão executando, o que ajuda a distorcer análises sobre a situação\n",
        "\n",
        "Para tentar minizar esse conflito entre os dados no caso do Brasil, o Ministério da Saúde criou o [Painel Coranavírus Brasil](https://covid.saude.gov.br/), que foi desenvolvido para ser o veículo oficial de comunicação sobre a situação epidemiológica da COVID-19 no Brasil. Diariamente, o Ministério da Saúde, por meio da Secretaria de Vigilância em Saúde (SVS/MS) divulga dados consolidados sobre o COVID-19.\n",
        "\n",
        "Contudo, o painel só trata da situação do Brasil e para nossa análise precisaremos comparar o nosso país em relação aos outros países do mundo. Portanto, nossa base de dados utilizada será a da [*Our World in Data*](https://ourworldindata.org/coronavirus), que apresenta dados e análises em um panorama global. A organização possui um [repositório no Github](https://github.com/owid/covid-19-data/tree/master/public/data) que será de onde iremos extrair nosso *dataset*."
      ]
    },
    {
      "cell_type": "markdown",
      "metadata": {
        "id": "bBQoaE-QMuAz",
        "colab_type": "text"
      },
      "source": [
        "### Dicionário de Variáveis\n",
        "\n",
        "Acessando o repositório no Github da *Our World Data*, conseguimos ter acesso ao seguinte dicionário de variáveis, presente no arquivo [owid-covid-codebook.csv](https://github.com/owid/covid-19-data/blob/master/public/data/owid-covid-codebook.csv):\n",
        "\n",
        "* `iso_code` - ISO 3166-1 alpha-3 - código dos países padrão três letras\n",
        "* `continent` - Continente da localização geográfica\n",
        "* `location` - Localização geográfica\n",
        "* `date` - Data de observação\n",
        "* `total_cases` - Total de casos confirmados de COVID-19\n",
        "* `new_cases` - Novos casos confirmados de COVID-19\n",
        "* `new_cases_smoothed` - Novos casos confirmados de COVID-19 (7 dias suavizado)\n",
        "* `total_deaths` - Total de mortes atribuídas a COVID-19\n",
        "* `new_deaths` - Novas mortes atribuídas a COVID-19\n",
        "* `new_deaths_smoothed` - Novas mortes atribuídas a COVID-19 (7 dias suavizado)\n",
        "* `total_cases_per_million` - Total de casos confirmados de COVID-19 por 1.000.000 de pessoas\n",
        "* `new_cases_per_million` - Novos casos confirmados de COVID-19 por 1.000.000 de pessoas\n",
        "* `new_cases_smoothed_per_million` - Nova casos confirmados de COVID-19 (7 dias suavizado) por 1.000.000 de pessoas\n",
        "* `total_deaths_per_million` - Total de mortes atribuídas a COVID-19 por 1.000.000 de pessoas\n",
        "* `new_deaths_per_million` - Novas mortes atribuídas ao COVID-19 por 1.000.000 de pessoas\n",
        "* `new_deaths_smoothed_per_million` - Novas mortes atribuídas a COVID-19 (7 dias suavizado) por 1.000.000 de pessoas\n",
        "* `total_tests` - Total de testes para COVID-19\n",
        "* `new_tests` - Novos testes para COVID-19\n",
        "* `new_tests_smoothed` - Novos testes para COVID-19 (7 dias suavizado)\n",
        "* `total_tests_per_thousand` - Total de testes para COVID-19 por 1.000 pessoas\n",
        "* `new_tests_per_thousand` - Novos testes para COVID-19 por 1.000 pessoas\n",
        "* `new_tests_smoothed_per_thousand` - Novos testes para COVID-19 (7 dias suavizado) por 1.000 pessoas\n",
        "* `tests_per_case` - Testes realizados por novo caso confirmado de COVID-19, dado como média móvel de 7 dias (este é o inverso da positive_rate)\n",
        "* `positive_rate` - Parte dos testes de COVID-19 que são positivos, dado como uma média móvel de 7 dias (este é o inverso da variável tests_per_case)\n",
        "* `tests_units` - Unidades usadas pela localização para relatar seus dados de testes\n",
        "* `stringency_index` - Índice de Resposta Restritiva Governamental: medida composta com base em 9 indicadores de resposta incluíndo o fechamento de escolas, fechamento de locais de trabalho, e proibição de viajar, escalonados para um valor de 0 a 100 (100 = resposta mais estrita)\n",
        "* `population` - População em 2020\n",
        "* `population_density` - Número de pessoas divididas por área de terra, medido em quilômetros quadrados, em anos mais recentes disponíveis\n",
        "* `median_age` - Idade média da população, projeção das Nações Unidas para 2020\n",
        "* `aged_65_older` - Parcela da população que é de 65 anos ou mais velhos, em anos mais recentes disponíveis\n",
        "* `aged_70_older` - Parcela da população que é de 70 anos ou mais em 2015\n",
        "* `gdp_per_capita` - Produto interno bruto em paridade de poder aquisitivo (constantes de dólares internacionais em 2011), em anos mais recentes disponíveis\n",
        "* `extreme_poverty` - Parcela da população vivendo em extrema pobreza, dos anos mais recentes disponíveis desde 2010\n",
        "* `cardiovasc_death_rate` - Taxa de mortalidade por doenças cardiovasculares em 2017 (número anual de mortes por 100.000 pessoas)\n",
        "* `diabetes_prevalence` - Prevalência de diabetes (% da população com idades entre 20 a 79) em 2017\n",
        "* `female_smokers` - Parcela de mulheres que fumam, dos anos mais recentes disponíveis\n",
        "* `male_smokers` - Parcela de homens que fumam, dos anos mais recentes disponíveis\n",
        "* `handwashing_facilities` - Parcela da população com instalações básicas de lavagem das mãos básicas de fácil acesso, dos anos mais recentes disponíveis\n",
        "* `hospital_beds_per_thousand` - Leitos hospitalares por 1.000 pessoas, dos anos mais recentes disponíveis desde 2010\n",
        "* `life_expectancy` - Expectativa de vida ao nascer em 2019"
      ]
    },
    {
      "cell_type": "markdown",
      "metadata": {
        "id": "QL87SDBHNwW4",
        "colab_type": "text"
      },
      "source": [
        "### Importando os dados do COVID-19"
      ]
    },
    {
      "cell_type": "markdown",
      "metadata": {
        "id": "sKLopNkJPeFF",
        "colab_type": "text"
      },
      "source": [
        "Iremos iniciar a nossa análise importando as bibliotecas necessárias e o arquivo .csv da *Our World Data* encontrado [neste link.](https://raw.githubusercontent.com/owid/covid-19-data/master/public/data/owid-covid-data.csv)"
      ]
    },
    {
      "cell_type": "code",
      "metadata": {
        "id": "lOtEJxe0DMEb",
        "colab_type": "code",
        "colab": {
          "base_uri": "https://localhost:8080/",
          "height": 71
        },
        "outputId": "a3e7ab06-7cfc-4a2b-b889-55631ca9cde6"
      },
      "source": [
        "# importando as bibliotecas necessárias\n",
        "import pandas as pd\n",
        "import numpy as np\n",
        "import matplotlib.pyplot as plt\n",
        "import seaborn as sns\n",
        "import missingno as msno\n",
        "\n",
        "%matplotlib inline"
      ],
      "execution_count": 1,
      "outputs": [
        {
          "output_type": "stream",
          "text": [
            "/usr/local/lib/python3.6/dist-packages/statsmodels/tools/_testing.py:19: FutureWarning: pandas.util.testing is deprecated. Use the functions in the public API at pandas.testing instead.\n",
            "  import pandas.util.testing as tm\n"
          ],
          "name": "stderr"
        }
      ]
    },
    {
      "cell_type": "code",
      "metadata": {
        "id": "U3VZFnzTEw9v",
        "colab_type": "code",
        "colab": {}
      },
      "source": [
        "# importando os dados para o dataframe\n",
        "df = pd.read_csv(\"https://raw.githubusercontent.com/owid/covid-19-data/master/public/data/owid-covid-data.csv\")"
      ],
      "execution_count": 2,
      "outputs": []
    },
    {
      "cell_type": "markdown",
      "metadata": {
        "id": "qb5By2nIMS6m",
        "colab_type": "text"
      },
      "source": [
        "## Análise Exploratória dos Dados\n",
        "\n",
        "Inicialmente precisamos conhecer o nosso dataframe em questão. Portanto, iremos utilizar alguns métodos para nos situarmos melhor sobre o formato e conteúdo que estamos analisando."
      ]
    },
    {
      "cell_type": "code",
      "metadata": {
        "id": "NzzvF7gKRAiU",
        "colab_type": "code",
        "colab": {
          "base_uri": "https://localhost:8080/",
          "height": 309
        },
        "outputId": "2a62e3c3-6b05-40f6-ee3f-819f4c2e05b3"
      },
      "source": [
        "# visualizando as cinco primeiro entradas do dataframe\n",
        "df.head()"
      ],
      "execution_count": 3,
      "outputs": [
        {
          "output_type": "execute_result",
          "data": {
            "text/html": [
              "<div>\n",
              "<style scoped>\n",
              "    .dataframe tbody tr th:only-of-type {\n",
              "        vertical-align: middle;\n",
              "    }\n",
              "\n",
              "    .dataframe tbody tr th {\n",
              "        vertical-align: top;\n",
              "    }\n",
              "\n",
              "    .dataframe thead th {\n",
              "        text-align: right;\n",
              "    }\n",
              "</style>\n",
              "<table border=\"1\" class=\"dataframe\">\n",
              "  <thead>\n",
              "    <tr style=\"text-align: right;\">\n",
              "      <th></th>\n",
              "      <th>iso_code</th>\n",
              "      <th>continent</th>\n",
              "      <th>location</th>\n",
              "      <th>date</th>\n",
              "      <th>total_cases</th>\n",
              "      <th>new_cases</th>\n",
              "      <th>new_cases_smoothed</th>\n",
              "      <th>total_deaths</th>\n",
              "      <th>new_deaths</th>\n",
              "      <th>new_deaths_smoothed</th>\n",
              "      <th>total_cases_per_million</th>\n",
              "      <th>new_cases_per_million</th>\n",
              "      <th>new_cases_smoothed_per_million</th>\n",
              "      <th>total_deaths_per_million</th>\n",
              "      <th>new_deaths_per_million</th>\n",
              "      <th>new_deaths_smoothed_per_million</th>\n",
              "      <th>new_tests</th>\n",
              "      <th>total_tests</th>\n",
              "      <th>total_tests_per_thousand</th>\n",
              "      <th>new_tests_per_thousand</th>\n",
              "      <th>new_tests_smoothed</th>\n",
              "      <th>new_tests_smoothed_per_thousand</th>\n",
              "      <th>tests_per_case</th>\n",
              "      <th>positive_rate</th>\n",
              "      <th>tests_units</th>\n",
              "      <th>stringency_index</th>\n",
              "      <th>population</th>\n",
              "      <th>population_density</th>\n",
              "      <th>median_age</th>\n",
              "      <th>aged_65_older</th>\n",
              "      <th>aged_70_older</th>\n",
              "      <th>gdp_per_capita</th>\n",
              "      <th>extreme_poverty</th>\n",
              "      <th>cardiovasc_death_rate</th>\n",
              "      <th>diabetes_prevalence</th>\n",
              "      <th>female_smokers</th>\n",
              "      <th>male_smokers</th>\n",
              "      <th>handwashing_facilities</th>\n",
              "      <th>hospital_beds_per_thousand</th>\n",
              "      <th>life_expectancy</th>\n",
              "    </tr>\n",
              "  </thead>\n",
              "  <tbody>\n",
              "    <tr>\n",
              "      <th>0</th>\n",
              "      <td>ABW</td>\n",
              "      <td>North America</td>\n",
              "      <td>Aruba</td>\n",
              "      <td>2020-03-13</td>\n",
              "      <td>2.0</td>\n",
              "      <td>2.0</td>\n",
              "      <td>NaN</td>\n",
              "      <td>0.0</td>\n",
              "      <td>0.0</td>\n",
              "      <td>NaN</td>\n",
              "      <td>18.733</td>\n",
              "      <td>18.733</td>\n",
              "      <td>NaN</td>\n",
              "      <td>0.0</td>\n",
              "      <td>0.0</td>\n",
              "      <td>NaN</td>\n",
              "      <td>NaN</td>\n",
              "      <td>NaN</td>\n",
              "      <td>NaN</td>\n",
              "      <td>NaN</td>\n",
              "      <td>NaN</td>\n",
              "      <td>NaN</td>\n",
              "      <td>NaN</td>\n",
              "      <td>NaN</td>\n",
              "      <td>NaN</td>\n",
              "      <td>0.00</td>\n",
              "      <td>106766.0</td>\n",
              "      <td>584.8</td>\n",
              "      <td>41.2</td>\n",
              "      <td>13.085</td>\n",
              "      <td>7.452</td>\n",
              "      <td>35973.781</td>\n",
              "      <td>NaN</td>\n",
              "      <td>NaN</td>\n",
              "      <td>11.62</td>\n",
              "      <td>NaN</td>\n",
              "      <td>NaN</td>\n",
              "      <td>NaN</td>\n",
              "      <td>NaN</td>\n",
              "      <td>76.29</td>\n",
              "    </tr>\n",
              "    <tr>\n",
              "      <th>1</th>\n",
              "      <td>ABW</td>\n",
              "      <td>North America</td>\n",
              "      <td>Aruba</td>\n",
              "      <td>2020-03-19</td>\n",
              "      <td>NaN</td>\n",
              "      <td>NaN</td>\n",
              "      <td>0.286</td>\n",
              "      <td>NaN</td>\n",
              "      <td>NaN</td>\n",
              "      <td>0.0</td>\n",
              "      <td>NaN</td>\n",
              "      <td>NaN</td>\n",
              "      <td>2.676</td>\n",
              "      <td>NaN</td>\n",
              "      <td>NaN</td>\n",
              "      <td>0.0</td>\n",
              "      <td>NaN</td>\n",
              "      <td>NaN</td>\n",
              "      <td>NaN</td>\n",
              "      <td>NaN</td>\n",
              "      <td>NaN</td>\n",
              "      <td>NaN</td>\n",
              "      <td>NaN</td>\n",
              "      <td>NaN</td>\n",
              "      <td>NaN</td>\n",
              "      <td>33.33</td>\n",
              "      <td>106766.0</td>\n",
              "      <td>584.8</td>\n",
              "      <td>41.2</td>\n",
              "      <td>13.085</td>\n",
              "      <td>7.452</td>\n",
              "      <td>35973.781</td>\n",
              "      <td>NaN</td>\n",
              "      <td>NaN</td>\n",
              "      <td>11.62</td>\n",
              "      <td>NaN</td>\n",
              "      <td>NaN</td>\n",
              "      <td>NaN</td>\n",
              "      <td>NaN</td>\n",
              "      <td>76.29</td>\n",
              "    </tr>\n",
              "    <tr>\n",
              "      <th>2</th>\n",
              "      <td>ABW</td>\n",
              "      <td>North America</td>\n",
              "      <td>Aruba</td>\n",
              "      <td>2020-03-20</td>\n",
              "      <td>4.0</td>\n",
              "      <td>2.0</td>\n",
              "      <td>0.286</td>\n",
              "      <td>0.0</td>\n",
              "      <td>0.0</td>\n",
              "      <td>0.0</td>\n",
              "      <td>37.465</td>\n",
              "      <td>18.733</td>\n",
              "      <td>2.676</td>\n",
              "      <td>0.0</td>\n",
              "      <td>0.0</td>\n",
              "      <td>0.0</td>\n",
              "      <td>NaN</td>\n",
              "      <td>NaN</td>\n",
              "      <td>NaN</td>\n",
              "      <td>NaN</td>\n",
              "      <td>NaN</td>\n",
              "      <td>NaN</td>\n",
              "      <td>NaN</td>\n",
              "      <td>NaN</td>\n",
              "      <td>NaN</td>\n",
              "      <td>33.33</td>\n",
              "      <td>106766.0</td>\n",
              "      <td>584.8</td>\n",
              "      <td>41.2</td>\n",
              "      <td>13.085</td>\n",
              "      <td>7.452</td>\n",
              "      <td>35973.781</td>\n",
              "      <td>NaN</td>\n",
              "      <td>NaN</td>\n",
              "      <td>11.62</td>\n",
              "      <td>NaN</td>\n",
              "      <td>NaN</td>\n",
              "      <td>NaN</td>\n",
              "      <td>NaN</td>\n",
              "      <td>76.29</td>\n",
              "    </tr>\n",
              "    <tr>\n",
              "      <th>3</th>\n",
              "      <td>ABW</td>\n",
              "      <td>North America</td>\n",
              "      <td>Aruba</td>\n",
              "      <td>2020-03-21</td>\n",
              "      <td>NaN</td>\n",
              "      <td>NaN</td>\n",
              "      <td>0.286</td>\n",
              "      <td>NaN</td>\n",
              "      <td>NaN</td>\n",
              "      <td>0.0</td>\n",
              "      <td>NaN</td>\n",
              "      <td>NaN</td>\n",
              "      <td>2.676</td>\n",
              "      <td>NaN</td>\n",
              "      <td>NaN</td>\n",
              "      <td>0.0</td>\n",
              "      <td>NaN</td>\n",
              "      <td>NaN</td>\n",
              "      <td>NaN</td>\n",
              "      <td>NaN</td>\n",
              "      <td>NaN</td>\n",
              "      <td>NaN</td>\n",
              "      <td>NaN</td>\n",
              "      <td>NaN</td>\n",
              "      <td>NaN</td>\n",
              "      <td>44.44</td>\n",
              "      <td>106766.0</td>\n",
              "      <td>584.8</td>\n",
              "      <td>41.2</td>\n",
              "      <td>13.085</td>\n",
              "      <td>7.452</td>\n",
              "      <td>35973.781</td>\n",
              "      <td>NaN</td>\n",
              "      <td>NaN</td>\n",
              "      <td>11.62</td>\n",
              "      <td>NaN</td>\n",
              "      <td>NaN</td>\n",
              "      <td>NaN</td>\n",
              "      <td>NaN</td>\n",
              "      <td>76.29</td>\n",
              "    </tr>\n",
              "    <tr>\n",
              "      <th>4</th>\n",
              "      <td>ABW</td>\n",
              "      <td>North America</td>\n",
              "      <td>Aruba</td>\n",
              "      <td>2020-03-22</td>\n",
              "      <td>NaN</td>\n",
              "      <td>NaN</td>\n",
              "      <td>0.286</td>\n",
              "      <td>NaN</td>\n",
              "      <td>NaN</td>\n",
              "      <td>0.0</td>\n",
              "      <td>NaN</td>\n",
              "      <td>NaN</td>\n",
              "      <td>2.676</td>\n",
              "      <td>NaN</td>\n",
              "      <td>NaN</td>\n",
              "      <td>0.0</td>\n",
              "      <td>NaN</td>\n",
              "      <td>NaN</td>\n",
              "      <td>NaN</td>\n",
              "      <td>NaN</td>\n",
              "      <td>NaN</td>\n",
              "      <td>NaN</td>\n",
              "      <td>NaN</td>\n",
              "      <td>NaN</td>\n",
              "      <td>NaN</td>\n",
              "      <td>44.44</td>\n",
              "      <td>106766.0</td>\n",
              "      <td>584.8</td>\n",
              "      <td>41.2</td>\n",
              "      <td>13.085</td>\n",
              "      <td>7.452</td>\n",
              "      <td>35973.781</td>\n",
              "      <td>NaN</td>\n",
              "      <td>NaN</td>\n",
              "      <td>11.62</td>\n",
              "      <td>NaN</td>\n",
              "      <td>NaN</td>\n",
              "      <td>NaN</td>\n",
              "      <td>NaN</td>\n",
              "      <td>76.29</td>\n",
              "    </tr>\n",
              "  </tbody>\n",
              "</table>\n",
              "</div>"
            ],
            "text/plain": [
              "  iso_code      continent  ... hospital_beds_per_thousand life_expectancy\n",
              "0      ABW  North America  ...                        NaN           76.29\n",
              "1      ABW  North America  ...                        NaN           76.29\n",
              "2      ABW  North America  ...                        NaN           76.29\n",
              "3      ABW  North America  ...                        NaN           76.29\n",
              "4      ABW  North America  ...                        NaN           76.29\n",
              "\n",
              "[5 rows x 40 columns]"
            ]
          },
          "metadata": {
            "tags": []
          },
          "execution_count": 3
        }
      ]
    },
    {
      "cell_type": "markdown",
      "metadata": {
        "id": "uKxsX1d8Y1hg",
        "colab_type": "text"
      },
      "source": [
        "### Tamanho e variáveis do dataframe\n",
        "\n",
        "Vamos analisar quantos registros nosso dataframe possuí, quantas variáveis e quais os tipos das mesmas."
      ]
    },
    {
      "cell_type": "code",
      "metadata": {
        "id": "ExFlrR5ORyhw",
        "colab_type": "code",
        "colab": {
          "base_uri": "https://localhost:8080/",
          "height": 867
        },
        "outputId": "257edb09-7090-4611-bef1-ce4b9c8f4e50"
      },
      "source": [
        "# verificando o tamanho de entradas e variáveis do dataframe\n",
        "print(\"Entradas:\\t{}\".format(df.shape[0]))\n",
        "print(\"Variáveis:\\t{}\\n\".format(df.shape[1]))\n",
        "\n",
        "# apresentando nome e tipo das variáveis\n",
        "df.info()"
      ],
      "execution_count": 4,
      "outputs": [
        {
          "output_type": "stream",
          "text": [
            "Entradas:\t39482\n",
            "Variáveis:\t40\n",
            "\n",
            "<class 'pandas.core.frame.DataFrame'>\n",
            "RangeIndex: 39482 entries, 0 to 39481\n",
            "Data columns (total 40 columns):\n",
            " #   Column                           Non-Null Count  Dtype  \n",
            "---  ------                           --------------  -----  \n",
            " 0   iso_code                         39243 non-null  object \n",
            " 1   continent                        39004 non-null  object \n",
            " 2   location                         39482 non-null  object \n",
            " 3   date                             39482 non-null  object \n",
            " 4   total_cases                      38906 non-null  float64\n",
            " 5   new_cases                        38731 non-null  float64\n",
            " 6   new_cases_smoothed               37950 non-null  float64\n",
            " 7   total_deaths                     38906 non-null  float64\n",
            " 8   new_deaths                       38731 non-null  float64\n",
            " 9   new_deaths_smoothed              37950 non-null  float64\n",
            " 10  total_cases_per_million          38667 non-null  float64\n",
            " 11  new_cases_per_million            38667 non-null  float64\n",
            " 12  new_cases_smoothed_per_million   37885 non-null  float64\n",
            " 13  total_deaths_per_million         38667 non-null  float64\n",
            " 14  new_deaths_per_million           38667 non-null  float64\n",
            " 15  new_deaths_smoothed_per_million  37885 non-null  float64\n",
            " 16  new_tests                        12636 non-null  float64\n",
            " 17  total_tests                      12967 non-null  float64\n",
            " 18  total_tests_per_thousand         12967 non-null  float64\n",
            " 19  new_tests_per_thousand           12636 non-null  float64\n",
            " 20  new_tests_smoothed               14202 non-null  float64\n",
            " 21  new_tests_smoothed_per_thousand  14202 non-null  float64\n",
            " 22  tests_per_case                   13116 non-null  float64\n",
            " 23  positive_rate                    13472 non-null  float64\n",
            " 24  tests_units                      14957 non-null  object \n",
            " 25  stringency_index                 32660 non-null  float64\n",
            " 26  population                       39243 non-null  float64\n",
            " 27  population_density               37499 non-null  float64\n",
            " 28  median_age                       35274 non-null  float64\n",
            " 29  aged_65_older                    34757 non-null  float64\n",
            " 30  aged_70_older                    35092 non-null  float64\n",
            " 31  gdp_per_capita                   34839 non-null  float64\n",
            " 32  extreme_poverty                  23267 non-null  float64\n",
            " 33  cardiovasc_death_rate            35287 non-null  float64\n",
            " 34  diabetes_prevalence              36513 non-null  float64\n",
            " 35  female_smokers                   27824 non-null  float64\n",
            " 36  male_smokers                     27479 non-null  float64\n",
            " 37  handwashing_facilities           16353 non-null  float64\n",
            " 38  hospital_beds_per_thousand       31984 non-null  float64\n",
            " 39  life_expectancy                  38760 non-null  float64\n",
            "dtypes: float64(35), object(5)\n",
            "memory usage: 12.0+ MB\n"
          ],
          "name": "stdout"
        }
      ]
    },
    {
      "cell_type": "markdown",
      "metadata": {
        "id": "pOXxo6T-S1a3",
        "colab_type": "text"
      },
      "source": [
        "Analisando o resultado do método `info()`, percebe-se que a variável `date` está em um formato *object*. Portanto, precisamos realizar a alteração para o tipo *datetime*."
      ]
    },
    {
      "cell_type": "code",
      "metadata": {
        "id": "uvMoXPGjTHAA",
        "colab_type": "code",
        "colab": {}
      },
      "source": [
        "df.date = pd.to_datetime(df.date)"
      ],
      "execution_count": 5,
      "outputs": []
    },
    {
      "cell_type": "markdown",
      "metadata": {
        "id": "1FCgd5lDZB_M",
        "colab_type": "text"
      },
      "source": [
        "### Avaliação sobre valores ausentes\n",
        "\n",
        "Nesse momento, precisamos avaliar qual a situação do *dataframe* em relação à valores ausentes. Para isso, iremos calcular o percentual de de valores ausentes por varíavel, além de gerar uma matriz de preenchimento dos dados, adicionando assim um recurso visual para avaliação desse aspecto."
      ]
    },
    {
      "cell_type": "code",
      "metadata": {
        "id": "bW1F9zPFVO-2",
        "colab_type": "code",
        "colab": {
          "base_uri": "https://localhost:8080/",
          "height": 714
        },
        "outputId": "6f954b11-5028-4845-87f2-c55980819764"
      },
      "source": [
        "# percentual de valores ausentes por variável\n",
        "(100*df.isnull().sum()/df.shape[0]).round(2).sort_values(ascending=False)"
      ],
      "execution_count": 6,
      "outputs": [
        {
          "output_type": "execute_result",
          "data": {
            "text/plain": [
              "new_tests_per_thousand             68.00\n",
              "new_tests                          68.00\n",
              "total_tests                        67.16\n",
              "total_tests_per_thousand           67.16\n",
              "tests_per_case                     66.78\n",
              "positive_rate                      65.88\n",
              "new_tests_smoothed                 64.03\n",
              "new_tests_smoothed_per_thousand    64.03\n",
              "tests_units                        62.12\n",
              "handwashing_facilities             58.58\n",
              "extreme_poverty                    41.07\n",
              "male_smokers                       30.40\n",
              "female_smokers                     29.53\n",
              "hospital_beds_per_thousand         18.99\n",
              "stringency_index                   17.28\n",
              "aged_65_older                      11.97\n",
              "gdp_per_capita                     11.76\n",
              "aged_70_older                      11.12\n",
              "median_age                         10.66\n",
              "cardiovasc_death_rate              10.63\n",
              "diabetes_prevalence                 7.52\n",
              "population_density                  5.02\n",
              "new_deaths_smoothed_per_million     4.04\n",
              "new_cases_smoothed_per_million      4.04\n",
              "new_cases_smoothed                  3.88\n",
              "new_deaths_smoothed                 3.88\n",
              "new_deaths_per_million              2.06\n",
              "total_deaths_per_million            2.06\n",
              "new_cases_per_million               2.06\n",
              "total_cases_per_million             2.06\n",
              "new_cases                           1.90\n",
              "new_deaths                          1.90\n",
              "life_expectancy                     1.83\n",
              "total_deaths                        1.46\n",
              "total_cases                         1.46\n",
              "continent                           1.21\n",
              "population                          0.61\n",
              "iso_code                            0.61\n",
              "date                                0.00\n",
              "location                            0.00\n",
              "dtype: float64"
            ]
          },
          "metadata": {
            "tags": []
          },
          "execution_count": 6
        }
      ]
    },
    {
      "cell_type": "code",
      "metadata": {
        "id": "2gU2MZuNTowS",
        "colab_type": "code",
        "colab": {
          "base_uri": "https://localhost:8080/",
          "height": 583
        },
        "outputId": "83d8d8db-b471-4307-ffde-5fdff8932765"
      },
      "source": [
        "# plotando a matriz de valores ausentes\n",
        "msno.matrix(df,labels=True)\n",
        "plt.show()"
      ],
      "execution_count": 7,
      "outputs": [
        {
          "output_type": "display_data",
          "data": {
            "image/png": "[encoded data removed]",
            "text/plain": [
              "<Figure size 1800x720 with 2 Axes>"
            ]
          },
          "metadata": {
            "tags": [],
            "needs_background": "light"
          }
        }
      ]
    },
    {
      "cell_type": "markdown",
      "metadata": {
        "id": "4aU6bk8xh3FC",
        "colab_type": "text"
      },
      "source": [
        "Neste caso, a matriz de valores ausentes apresenta um insight muito interessante. As variáveis que apresentam a maior quantidade de valores faltantes estão relacionadas à testes da doença, o que seria um forte indício sobre a **fragilidade de informação e/ou ausência de execução de testes** para o COVID-19, fator crítico para se ter uma análise completa da situação em prol de tomadas de decisão mais assertivas para a contenção da doença.\n",
        "\n"
      ]
    },
    {
      "cell_type": "markdown",
      "metadata": {
        "id": "EEmLdx5zkWl2",
        "colab_type": "text"
      },
      "source": [
        "### Total de casos confirmados (Ago/2020)\n",
        "\n",
        "Vamos agora avaliar quais são os três piores países em termos de total de casos confirmados de COVID-19."
      ]
    },
    {
      "cell_type": "code",
      "metadata": {
        "id": "H7n0LhLbe-nK",
        "colab_type": "code",
        "colab": {
          "base_uri": "https://localhost:8080/",
          "height": 309
        },
        "outputId": "63336f66-761a-4dce-ad6d-a61fcc72f0a7"
      },
      "source": [
        "df.loc[df.date == '2020-08-25'].sort_values(by=\"total_cases\", ascending=False).head()"
      ],
      "execution_count": 10,
      "outputs": [
        {
          "output_type": "execute_result",
          "data": {
            "text/html": [
              "<div>\n",
              "<style scoped>\n",
              "    .dataframe tbody tr th:only-of-type {\n",
              "        vertical-align: middle;\n",
              "    }\n",
              "\n",
              "    .dataframe tbody tr th {\n",
              "        vertical-align: top;\n",
              "    }\n",
              "\n",
              "    .dataframe thead th {\n",
              "        text-align: right;\n",
              "    }\n",
              "</style>\n",
              "<table border=\"1\" class=\"dataframe\">\n",
              "  <thead>\n",
              "    <tr style=\"text-align: right;\">\n",
              "      <th></th>\n",
              "      <th>iso_code</th>\n",
              "      <th>continent</th>\n",
              "      <th>location</th>\n",
              "      <th>date</th>\n",
              "      <th>total_cases</th>\n",
              "      <th>new_cases</th>\n",
              "      <th>new_cases_smoothed</th>\n",
              "      <th>total_deaths</th>\n",
              "      <th>new_deaths</th>\n",
              "      <th>new_deaths_smoothed</th>\n",
              "      <th>total_cases_per_million</th>\n",
              "      <th>new_cases_per_million</th>\n",
              "      <th>new_cases_smoothed_per_million</th>\n",
              "      <th>total_deaths_per_million</th>\n",
              "      <th>new_deaths_per_million</th>\n",
              "      <th>new_deaths_smoothed_per_million</th>\n",
              "      <th>new_tests</th>\n",
              "      <th>total_tests</th>\n",
              "      <th>total_tests_per_thousand</th>\n",
              "      <th>new_tests_per_thousand</th>\n",
              "      <th>new_tests_smoothed</th>\n",
              "      <th>new_tests_smoothed_per_thousand</th>\n",
              "      <th>tests_per_case</th>\n",
              "      <th>positive_rate</th>\n",
              "      <th>tests_units</th>\n",
              "      <th>stringency_index</th>\n",
              "      <th>population</th>\n",
              "      <th>population_density</th>\n",
              "      <th>median_age</th>\n",
              "      <th>aged_65_older</th>\n",
              "      <th>aged_70_older</th>\n",
              "      <th>gdp_per_capita</th>\n",
              "      <th>extreme_poverty</th>\n",
              "      <th>cardiovasc_death_rate</th>\n",
              "      <th>diabetes_prevalence</th>\n",
              "      <th>female_smokers</th>\n",
              "      <th>male_smokers</th>\n",
              "      <th>handwashing_facilities</th>\n",
              "      <th>hospital_beds_per_thousand</th>\n",
              "      <th>life_expectancy</th>\n",
              "    </tr>\n",
              "  </thead>\n",
              "  <tbody>\n",
              "    <tr>\n",
              "      <th>39242</th>\n",
              "      <td>OWID_WRL</td>\n",
              "      <td>NaN</td>\n",
              "      <td>World</td>\n",
              "      <td>2020-08-25</td>\n",
              "      <td>23673902.0</td>\n",
              "      <td>212793.0</td>\n",
              "      <td>252749.714</td>\n",
              "      <td>813944.0</td>\n",
              "      <td>4487.0</td>\n",
              "      <td>5624.000</td>\n",
              "      <td>3037.141</td>\n",
              "      <td>27.299</td>\n",
              "      <td>32.425</td>\n",
              "      <td>104.421</td>\n",
              "      <td>0.576</td>\n",
              "      <td>0.722</td>\n",
              "      <td>NaN</td>\n",
              "      <td>NaN</td>\n",
              "      <td>NaN</td>\n",
              "      <td>NaN</td>\n",
              "      <td>NaN</td>\n",
              "      <td>NaN</td>\n",
              "      <td>NaN</td>\n",
              "      <td>NaN</td>\n",
              "      <td>NaN</td>\n",
              "      <td>NaN</td>\n",
              "      <td>7.794799e+09</td>\n",
              "      <td>58.045</td>\n",
              "      <td>30.9</td>\n",
              "      <td>8.696</td>\n",
              "      <td>5.355</td>\n",
              "      <td>15469.207</td>\n",
              "      <td>10.0</td>\n",
              "      <td>233.070</td>\n",
              "      <td>8.51</td>\n",
              "      <td>6.434</td>\n",
              "      <td>34.635</td>\n",
              "      <td>60.13</td>\n",
              "      <td>2.705</td>\n",
              "      <td>72.58</td>\n",
              "    </tr>\n",
              "    <tr>\n",
              "      <th>36980</th>\n",
              "      <td>USA</td>\n",
              "      <td>North America</td>\n",
              "      <td>United States</td>\n",
              "      <td>2020-08-25</td>\n",
              "      <td>5740909.0</td>\n",
              "      <td>38298.0</td>\n",
              "      <td>43226.286</td>\n",
              "      <td>177279.0</td>\n",
              "      <td>473.0</td>\n",
              "      <td>968.857</td>\n",
              "      <td>17343.997</td>\n",
              "      <td>115.703</td>\n",
              "      <td>130.592</td>\n",
              "      <td>535.582</td>\n",
              "      <td>1.429</td>\n",
              "      <td>2.927</td>\n",
              "      <td>NaN</td>\n",
              "      <td>NaN</td>\n",
              "      <td>NaN</td>\n",
              "      <td>NaN</td>\n",
              "      <td>NaN</td>\n",
              "      <td>NaN</td>\n",
              "      <td>NaN</td>\n",
              "      <td>NaN</td>\n",
              "      <td>NaN</td>\n",
              "      <td>NaN</td>\n",
              "      <td>3.310026e+08</td>\n",
              "      <td>35.608</td>\n",
              "      <td>38.3</td>\n",
              "      <td>15.413</td>\n",
              "      <td>9.732</td>\n",
              "      <td>54225.446</td>\n",
              "      <td>1.2</td>\n",
              "      <td>151.089</td>\n",
              "      <td>10.79</td>\n",
              "      <td>19.100</td>\n",
              "      <td>24.600</td>\n",
              "      <td>NaN</td>\n",
              "      <td>2.770</td>\n",
              "      <td>78.86</td>\n",
              "    </tr>\n",
              "    <tr>\n",
              "      <th>5331</th>\n",
              "      <td>BRA</td>\n",
              "      <td>South America</td>\n",
              "      <td>Brazil</td>\n",
              "      <td>2020-08-25</td>\n",
              "      <td>3622861.0</td>\n",
              "      <td>17078.0</td>\n",
              "      <td>37613.000</td>\n",
              "      <td>115309.0</td>\n",
              "      <td>565.0</td>\n",
              "      <td>967.571</td>\n",
              "      <td>17043.993</td>\n",
              "      <td>80.345</td>\n",
              "      <td>176.953</td>\n",
              "      <td>542.479</td>\n",
              "      <td>2.658</td>\n",
              "      <td>4.552</td>\n",
              "      <td>NaN</td>\n",
              "      <td>NaN</td>\n",
              "      <td>NaN</td>\n",
              "      <td>NaN</td>\n",
              "      <td>NaN</td>\n",
              "      <td>NaN</td>\n",
              "      <td>NaN</td>\n",
              "      <td>NaN</td>\n",
              "      <td>NaN</td>\n",
              "      <td>NaN</td>\n",
              "      <td>2.125594e+08</td>\n",
              "      <td>25.040</td>\n",
              "      <td>33.5</td>\n",
              "      <td>8.552</td>\n",
              "      <td>5.060</td>\n",
              "      <td>14103.452</td>\n",
              "      <td>3.4</td>\n",
              "      <td>177.961</td>\n",
              "      <td>8.11</td>\n",
              "      <td>10.100</td>\n",
              "      <td>17.900</td>\n",
              "      <td>NaN</td>\n",
              "      <td>2.200</td>\n",
              "      <td>75.88</td>\n",
              "    </tr>\n",
              "    <tr>\n",
              "      <th>17076</th>\n",
              "      <td>IND</td>\n",
              "      <td>Asia</td>\n",
              "      <td>India</td>\n",
              "      <td>2020-08-25</td>\n",
              "      <td>3167323.0</td>\n",
              "      <td>60975.0</td>\n",
              "      <td>66368.714</td>\n",
              "      <td>58390.0</td>\n",
              "      <td>848.0</td>\n",
              "      <td>941.857</td>\n",
              "      <td>2295.154</td>\n",
              "      <td>44.185</td>\n",
              "      <td>48.093</td>\n",
              "      <td>42.311</td>\n",
              "      <td>0.614</td>\n",
              "      <td>0.683</td>\n",
              "      <td>NaN</td>\n",
              "      <td>NaN</td>\n",
              "      <td>NaN</td>\n",
              "      <td>NaN</td>\n",
              "      <td>NaN</td>\n",
              "      <td>NaN</td>\n",
              "      <td>NaN</td>\n",
              "      <td>NaN</td>\n",
              "      <td>NaN</td>\n",
              "      <td>79.63</td>\n",
              "      <td>1.380004e+09</td>\n",
              "      <td>450.419</td>\n",
              "      <td>28.2</td>\n",
              "      <td>5.989</td>\n",
              "      <td>3.414</td>\n",
              "      <td>6426.674</td>\n",
              "      <td>21.2</td>\n",
              "      <td>282.280</td>\n",
              "      <td>10.39</td>\n",
              "      <td>1.900</td>\n",
              "      <td>20.600</td>\n",
              "      <td>59.55</td>\n",
              "      <td>0.530</td>\n",
              "      <td>69.66</td>\n",
              "    </tr>\n",
              "    <tr>\n",
              "      <th>30860</th>\n",
              "      <td>RUS</td>\n",
              "      <td>Europe</td>\n",
              "      <td>Russia</td>\n",
              "      <td>2020-08-25</td>\n",
              "      <td>961493.0</td>\n",
              "      <td>4744.0</td>\n",
              "      <td>4821.143</td>\n",
              "      <td>16448.0</td>\n",
              "      <td>65.0</td>\n",
              "      <td>101.143</td>\n",
              "      <td>6588.526</td>\n",
              "      <td>32.508</td>\n",
              "      <td>33.036</td>\n",
              "      <td>112.708</td>\n",
              "      <td>0.445</td>\n",
              "      <td>0.693</td>\n",
              "      <td>NaN</td>\n",
              "      <td>NaN</td>\n",
              "      <td>NaN</td>\n",
              "      <td>NaN</td>\n",
              "      <td>NaN</td>\n",
              "      <td>NaN</td>\n",
              "      <td>NaN</td>\n",
              "      <td>NaN</td>\n",
              "      <td>NaN</td>\n",
              "      <td>NaN</td>\n",
              "      <td>1.459345e+08</td>\n",
              "      <td>8.823</td>\n",
              "      <td>39.6</td>\n",
              "      <td>14.178</td>\n",
              "      <td>9.393</td>\n",
              "      <td>24765.954</td>\n",
              "      <td>0.1</td>\n",
              "      <td>431.297</td>\n",
              "      <td>6.18</td>\n",
              "      <td>23.400</td>\n",
              "      <td>58.300</td>\n",
              "      <td>NaN</td>\n",
              "      <td>8.050</td>\n",
              "      <td>72.58</td>\n",
              "    </tr>\n",
              "  </tbody>\n",
              "</table>\n",
              "</div>"
            ],
            "text/plain": [
              "       iso_code      continent  ... hospital_beds_per_thousand life_expectancy\n",
              "39242  OWID_WRL            NaN  ...                      2.705           72.58\n",
              "36980       USA  North America  ...                      2.770           78.86\n",
              "5331        BRA  South America  ...                      2.200           75.88\n",
              "17076       IND           Asia  ...                      0.530           69.66\n",
              "30860       RUS         Europe  ...                      8.050           72.58\n",
              "\n",
              "[5 rows x 40 columns]"
            ]
          },
          "metadata": {
            "tags": []
          },
          "execution_count": 10
        }
      ]
    },
    {
      "cell_type": "markdown",
      "metadata": {
        "id": "dA-qqv15lTXC",
        "colab_type": "text"
      },
      "source": [
        "Como visto acima, a primera linha representa um totalizador de todos os países, representando o mundo como um todo. Para esse momento da análise, não há necessidade de excluirmos as entradas referentes à essa categoria mas é algo para mantermos a atenção. \n",
        "\n",
        "No dia desta análise, 25 de Agosto de 2020, os três piores países em termos de total de casos confirmados de COVID-19 são:\n",
        "\n",
        "* **Estados Unidos:** 5.740.909 casos\n",
        "* **Brasil:** 3.622.861 casos\n",
        "* **Índia:** 3.167.323 casos"
      ]
    },
    {
      "cell_type": "markdown",
      "metadata": {
        "id": "Q914NbQzQuHb",
        "colab_type": "text"
      },
      "source": [
        "## TO-DO LIST\n",
        "\n",
        "* *Ver para a data mais atual, quais os países que têm mais casos e mortes. Veja o exemplo:*\n",
        "    * `df.loc[df.date == '2020-06-14'].sort_values(by=\"total_cases\", ascending=False)`\n",
        "    * `df.loc[df.date == '2020-06-14'].sort_values(by=\"total_deaths\", ascending=False)`\n",
        "* Plotar um gráfico de barras para os 5 países com mais mortes\n",
        "    * `df.loc[df.date == '2020-06-14', ['location', 'total_deaths']].sort_values(by=\"total_deaths\", ascending=False)[1:6]`\n",
        "    * `ax.bar('location', 'total_deaths', data=top5_total_deaths)`\n",
        "* Plotar um gráfico de linhas para ver a evolução do total de casos de COVID-19 no mundo.\n",
        "    * `df.loc[df.location == \"World\", \"total_deaths\"].reset_index(drop=True).plot()`\n",
        "* [OPCIONAL] Plotar um gráfico de dispersão considerando `gdp_per_capita` (ou seja, o PIB dos países) pelo número total de mortos. Pegue a data mais recente apenas.\n",
        "    * Lembre-se que não é nada conclusivo, pois envolve fatores como proporcão de testes, etc.\n"
      ]
    },
    {
      "cell_type": "markdown",
      "metadata": {
        "id": "__TfiNtiPPA6",
        "colab_type": "text"
      },
      "source": [
        "Vamos......"
      ]
    },
    {
      "cell_type": "code",
      "metadata": {
        "id": "gO1fv3D1PS4k",
        "colab_type": "code",
        "colab": {}
      },
      "source": [
        ""
      ],
      "execution_count": 9,
      "outputs": []
    },
    {
      "cell_type": "markdown",
      "metadata": {
        "id": "SViA5VZ7DYLA",
        "colab_type": "text"
      },
      "source": [
        "### Análise Exploratória para o Brasil\n",
        "\n",
        "* Criar uma cópia do DataFrame apenas com o Brasil\n",
        "    * `df_brasil = df.loc[df.location == \"Brazil\"].copy()`\n",
        "* Identificar quando foi registrada a primeira morte no Brasil\n",
        "* Identificar quantos dias demorou para registrarmos a primeira morte, considerando o primeiro caso de COVID-19 registrado.\n",
        "* Plotar gráficos de linha em escalas linear e logarítmica para os casos totais e mortes totais."
      ]
    },
    {
      "cell_type": "code",
      "metadata": {
        "id": "UDQA502_hAwI",
        "colab_type": "code",
        "colab": {}
      },
      "source": [
        ""
      ],
      "execution_count": 9,
      "outputs": []
    },
    {
      "cell_type": "markdown",
      "metadata": {
        "id": "LCsiXvM3BcsO",
        "colab_type": "text"
      },
      "source": [
        "## Conclusão\n",
        "\n",
        "*Escreva suas conclusões e análises sobre os dados relativos à COVID-19...*"
      ]
    }
  ]
}