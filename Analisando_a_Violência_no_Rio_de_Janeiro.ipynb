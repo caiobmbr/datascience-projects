{
  "nbformat": 4,
  "nbformat_minor": 0,
  "metadata": {
    "colab": {
      "name": "Analisando a Violência no Rio de Janeiro.ipynb",
      "provenance": [],
      "collapsed_sections": [],
      "toc_visible": true,
      "include_colab_link": true
    },
    "kernelspec": {
      "name": "python3",
      "display_name": "Python 3"
    }
  },
  "cells": [
    {
      "cell_type": "markdown",
      "metadata": {
        "id": "view-in-github",
        "colab_type": "text"
      },
      "source": [
        "<a href=\"https://colab.research.google.com/github/caiobmbr/datascience-projects/blob/master/Analisando_a_Viol%C3%AAncia_no_Rio_de_Janeiro.ipynb\" target=\"_parent\"><img src=\"https://colab.research.google.com/assets/colab-badge.svg\" alt=\"Open In Colab\"/></a>"
      ]
    },
    {
      "cell_type": "markdown",
      "metadata": {
        "id": "-eFQZydM9O9J",
        "colab_type": "text"
      },
      "source": [
        "<img alt=\"Colaboratory logo\"  width=\"80%\" src=\"https://raw.githubusercontent.com/caiobmbr/datascience-projects/master/banner_v1.0.png\">\n",
        "\n",
        "**Data Science na Prática 2.0.**\n",
        "*by [Caio Melo](https://github.com/caiobmbr/datascience-projects)*\n",
        "\n",
        "## Analisando a Violência no Rio de Janeiro\n",
        "---\n",
        "\n",
        "O Brasil é conhecido por ser um país que enfrenta diariamente a questão da segurança pública e o Rio de Janeiro é um caso especial nesse sentido. O nível alarmante de casos de roubo, furtos e atendados à vida é sempre evidenciado nos noticiários.\n",
        "\n",
        "<img alt=\"Rio de Janeiro landscape\" width=\"80%\" src=\"https://images.unsplash.com/photo-1552428386-840770ff7588?ixlib=rb-1.2.1&auto=format&fit=crop&w=1953&q=80\">\n",
        "\n",
        "Atualmente, as leis de acesso à informação e a conscientização dos órgãos públicos, vêm proporcionando a disponibilização de várias fontes de dados.\n",
        "\n",
        "Como exemplo, o governo do Rio de Janeiro traz a iniciativa do [portal ISPDados](http://www.ispdados.rj.gov.br/estatistica.html). \n",
        "\n",
        "Neste notebook, faremos uma análise em cima dos indicadores estatísticos da violência no Rio, explorando algumas das variáveis fornecidas.\n",
        "\n"
      ]
    },
    {
      "cell_type": "markdown",
      "metadata": {
        "id": "0zxQHhIUDF_2",
        "colab_type": "text"
      },
      "source": [
        "## Obtenção dos Dados\n",
        "\n",
        "Os dados foram obtidos diretamente do portal ISPDados, que é uma página de Dados Abertos do Instituto de Segurança Pública do Rio de Janeiro. O arquivo `csv` utilizado nessa análise foi pré-processado pelo professor Carlos Melo, com intuito de focar nos pontos de interesse da análise e que pode ser baixado diretamente [neste link](https://raw.githubusercontent.com/carlosfab/dsnp2/master/datasets/violencia_rio.csv).\n",
        "\n",
        "As estatísticas divulgadas no portal são construídas a partir dos Registros de Ocorrência (RO) lavrados nas delegacias de Polícia Civil do Estado do Rio de Janeiro, além de informações complementares de órgãos específicos da Polícia Militar do Estado do Rio de Janeiro.\n",
        "\n",
        "Como forma de criar um controle de qualidade, antes de serem consolidados no ISP os RO são submetidos à Corregedoria Interna da Polícia Civil (COINPOL). As estatísticas produzidas baseiam-se na data em que foi confeccionado o Registro de Ocorrência.\n",
        "\n"
      ]
    },
    {
      "cell_type": "code",
      "metadata": {
        "id": "CYLNme_OCX_R",
        "colab_type": "code",
        "colab": {}
      },
      "source": [
        "# importação das bibliotecas para uso na análise\n",
        "import pandas as pd\n",
        "import numpy as np\n",
        "import missingno as msno\n",
        "import matplotlib.pyplot as plt\n",
        "%matplotlib inline"
      ],
      "execution_count": null,
      "outputs": []
    },
    {
      "cell_type": "code",
      "metadata": {
        "id": "pUQNHVmQCpv_",
        "colab_type": "code",
        "colab": {}
      },
      "source": [
        "# importando a base de dados\n",
        "df = pd.read_csv(\"https://raw.githubusercontent.com/carlosfab/dsnp2/master/datasets/violencia_rio.csv\")"
      ],
      "execution_count": null,
      "outputs": []
    },
    {
      "cell_type": "markdown",
      "metadata": {
        "id": "qb5By2nIMS6m",
        "colab_type": "text"
      },
      "source": [
        "## Análise inicial dos dados\n",
        "\n",
        "Esta etapa tem por objetivo criar uma consciência situacional inicial e permitir um entendimento de como os dados estão estruturados. \n",
        "\n",
        "O dicionário de variáveis não foi encontrado em sua totalidade no site do portal ISPDados portanto segue abaixo apenas a descrição dos nomes das colunas (variáveis) do dataset, junto com o tipo de dado para cada variável. A maioria das variáveis apresenta dados quantitativos das mais diversas situações de violências que foram contabilizadas.\n",
        "\n",
        "Apenas as colunas `vano` e `mes` representam dados não-numéricos pois são marcos temporais. Todos as outras variáveis representam quantidades de ocorrências de violência.\n"
      ]
    },
    {
      "cell_type": "code",
      "metadata": {
        "id": "VKPlP9zw0tgP",
        "colab_type": "code",
        "colab": {
          "base_uri": "https://localhost:8080/",
          "height": 1000
        },
        "outputId": "a8614baf-6d7c-4855-e87e-72518c2071fb"
      },
      "source": [
        "# mostrar os nomes e tipos de dados das variáveis\n",
        "df.info()"
      ],
      "execution_count": null,
      "outputs": [
        {
          "output_type": "stream",
          "text": [
            "<class 'pandas.core.frame.DataFrame'>\n",
            "RangeIndex: 344 entries, 0 to 343\n",
            "Data columns (total 56 columns):\n",
            " #   Column                      Non-Null Count  Dtype  \n",
            "---  ------                      --------------  -----  \n",
            " 0   vano                        344 non-null    int64  \n",
            " 1   mes                         344 non-null    int64  \n",
            " 2   hom_doloso                  344 non-null    int64  \n",
            " 3   lesao_corp_morte            248 non-null    float64\n",
            " 4   latrocinio                  344 non-null    int64  \n",
            " 5   hom_por_interv_policial     260 non-null    float64\n",
            " 6   tentat_hom                  344 non-null    int64  \n",
            " 7   lesao_corp_dolosa           344 non-null    int64  \n",
            " 8   estupro                     200 non-null    float64\n",
            " 9   hom_culposo                 260 non-null    float64\n",
            " 10  lesao_corp_culposa          248 non-null    float64\n",
            " 11  roubo_comercio              344 non-null    int64  \n",
            " 12  roubo_residencia            344 non-null    int64  \n",
            " 13  roubo_veiculo               344 non-null    int64  \n",
            " 14  roubo_carga                 344 non-null    int64  \n",
            " 15  roubo_transeunte            344 non-null    int64  \n",
            " 16  roubo_em_coletivo           344 non-null    int64  \n",
            " 17  roubo_banco                 344 non-null    int64  \n",
            " 18  roubo_cx_eletronico         200 non-null    float64\n",
            " 19  roubo_celular               236 non-null    float64\n",
            " 20  roubo_conducao_saque        200 non-null    float64\n",
            " 21  roubo_apos_saque            200 non-null    float64\n",
            " 22  roubo_bicicleta             68 non-null     float64\n",
            " 23  outros_roubos               344 non-null    int64  \n",
            " 24  total_roubos                344 non-null    int64  \n",
            " 25  furto_veiculos              344 non-null    int64  \n",
            " 26  furto_transeunte            344 non-null    int64  \n",
            " 27  furto_coletivo              200 non-null    float64\n",
            " 28  furto_celular               200 non-null    float64\n",
            " 29  furto_bicicleta             68 non-null     float64\n",
            " 30  outros_furtos               344 non-null    int64  \n",
            " 31  total_furtos                344 non-null    int64  \n",
            " 32  sequestro                   248 non-null    float64\n",
            " 33  extorsao                    200 non-null    float64\n",
            " 34  sequestro_relampago         200 non-null    float64\n",
            " 35  estelionato                 200 non-null    float64\n",
            " 36  apreensao_drogas            344 non-null    int64  \n",
            " 37  posse_drogas                164 non-null    float64\n",
            " 38  trafico_drogas              164 non-null    float64\n",
            " 39  apreensao_drogas_sem_autor  164 non-null    float64\n",
            " 40  recuperacao_veiculos        344 non-null    int64  \n",
            " 41  apf                         164 non-null    float64\n",
            " 42  aaapai                      164 non-null    float64\n",
            " 43  cmp                         164 non-null    float64\n",
            " 44  cmba                        164 non-null    float64\n",
            " 45  ameaca                      248 non-null    float64\n",
            " 46  pessoas_desaparecidas       212 non-null    float64\n",
            " 47  encontro_cadaver            344 non-null    int64  \n",
            " 48  encontro_ossada             212 non-null    float64\n",
            " 49  pol_militares_mortos_serv   200 non-null    float64\n",
            " 50  pol_civis_mortos_serv       200 non-null    float64\n",
            " 51  indicador_letalidade        344 non-null    int64  \n",
            " 52  indicador_roubo_rua         344 non-null    int64  \n",
            " 53  indicador_roubo_veic        344 non-null    int64  \n",
            " 54  registro_ocorrencias        248 non-null    float64\n",
            " 55  fase                        344 non-null    int64  \n",
            "dtypes: float64(30), int64(26)\n",
            "memory usage: 150.6 KB\n"
          ],
          "name": "stdout"
        }
      ]
    },
    {
      "cell_type": "markdown",
      "metadata": {
        "id": "abIlfjiw1n6U",
        "colab_type": "text"
      },
      "source": [
        "### Apresentação do dataframe\n",
        "\n",
        "Antes de iniciar qualquer análise, vamos verificar a cara do nosso dataframe, analisando as 5 primeiras entradas"
      ]
    },
    {
      "cell_type": "code",
      "metadata": {
        "id": "4qUpiBH_1IlL",
        "colab_type": "code",
        "colab": {
          "base_uri": "https://localhost:8080/",
          "height": 224
        },
        "outputId": "2d016994-7bef-4a4d-c4b5-a11941d65152"
      },
      "source": [
        "# mostrar as cinco primeiras entradas do dataset\n",
        "df.head()"
      ],
      "execution_count": null,
      "outputs": [
        {
          "output_type": "execute_result",
          "data": {
            "text/html": [
              "<div>\n",
              "<style scoped>\n",
              "    .dataframe tbody tr th:only-of-type {\n",
              "        vertical-align: middle;\n",
              "    }\n",
              "\n",
              "    .dataframe tbody tr th {\n",
              "        vertical-align: top;\n",
              "    }\n",
              "\n",
              "    .dataframe thead th {\n",
              "        text-align: right;\n",
              "    }\n",
              "</style>\n",
              "<table border=\"1\" class=\"dataframe\">\n",
              "  <thead>\n",
              "    <tr style=\"text-align: right;\">\n",
              "      <th></th>\n",
              "      <th>vano</th>\n",
              "      <th>mes</th>\n",
              "      <th>hom_doloso</th>\n",
              "      <th>lesao_corp_morte</th>\n",
              "      <th>latrocinio</th>\n",
              "      <th>hom_por_interv_policial</th>\n",
              "      <th>tentat_hom</th>\n",
              "      <th>lesao_corp_dolosa</th>\n",
              "      <th>estupro</th>\n",
              "      <th>hom_culposo</th>\n",
              "      <th>lesao_corp_culposa</th>\n",
              "      <th>roubo_comercio</th>\n",
              "      <th>roubo_residencia</th>\n",
              "      <th>roubo_veiculo</th>\n",
              "      <th>roubo_carga</th>\n",
              "      <th>roubo_transeunte</th>\n",
              "      <th>roubo_em_coletivo</th>\n",
              "      <th>roubo_banco</th>\n",
              "      <th>roubo_cx_eletronico</th>\n",
              "      <th>roubo_celular</th>\n",
              "      <th>roubo_conducao_saque</th>\n",
              "      <th>roubo_apos_saque</th>\n",
              "      <th>roubo_bicicleta</th>\n",
              "      <th>outros_roubos</th>\n",
              "      <th>total_roubos</th>\n",
              "      <th>furto_veiculos</th>\n",
              "      <th>furto_transeunte</th>\n",
              "      <th>furto_coletivo</th>\n",
              "      <th>furto_celular</th>\n",
              "      <th>furto_bicicleta</th>\n",
              "      <th>outros_furtos</th>\n",
              "      <th>total_furtos</th>\n",
              "      <th>sequestro</th>\n",
              "      <th>extorsao</th>\n",
              "      <th>sequestro_relampago</th>\n",
              "      <th>estelionato</th>\n",
              "      <th>apreensao_drogas</th>\n",
              "      <th>posse_drogas</th>\n",
              "      <th>trafico_drogas</th>\n",
              "      <th>apreensao_drogas_sem_autor</th>\n",
              "      <th>recuperacao_veiculos</th>\n",
              "      <th>apf</th>\n",
              "      <th>aaapai</th>\n",
              "      <th>cmp</th>\n",
              "      <th>cmba</th>\n",
              "      <th>ameaca</th>\n",
              "      <th>pessoas_desaparecidas</th>\n",
              "      <th>encontro_cadaver</th>\n",
              "      <th>encontro_ossada</th>\n",
              "      <th>pol_militares_mortos_serv</th>\n",
              "      <th>pol_civis_mortos_serv</th>\n",
              "      <th>indicador_letalidade</th>\n",
              "      <th>indicador_roubo_rua</th>\n",
              "      <th>indicador_roubo_veic</th>\n",
              "      <th>registro_ocorrencias</th>\n",
              "      <th>fase</th>\n",
              "    </tr>\n",
              "  </thead>\n",
              "  <tbody>\n",
              "    <tr>\n",
              "      <th>0</th>\n",
              "      <td>1991</td>\n",
              "      <td>1</td>\n",
              "      <td>657</td>\n",
              "      <td>NaN</td>\n",
              "      <td>15</td>\n",
              "      <td>NaN</td>\n",
              "      <td>162</td>\n",
              "      <td>3051</td>\n",
              "      <td>NaN</td>\n",
              "      <td>NaN</td>\n",
              "      <td>NaN</td>\n",
              "      <td>350</td>\n",
              "      <td>188</td>\n",
              "      <td>1174</td>\n",
              "      <td>63</td>\n",
              "      <td>967</td>\n",
              "      <td>381</td>\n",
              "      <td>37</td>\n",
              "      <td>NaN</td>\n",
              "      <td>NaN</td>\n",
              "      <td>NaN</td>\n",
              "      <td>NaN</td>\n",
              "      <td>NaN</td>\n",
              "      <td>158</td>\n",
              "      <td>3318</td>\n",
              "      <td>2009</td>\n",
              "      <td>1147</td>\n",
              "      <td>NaN</td>\n",
              "      <td>NaN</td>\n",
              "      <td>NaN</td>\n",
              "      <td>3561</td>\n",
              "      <td>6717</td>\n",
              "      <td>NaN</td>\n",
              "      <td>NaN</td>\n",
              "      <td>NaN</td>\n",
              "      <td>NaN</td>\n",
              "      <td>133</td>\n",
              "      <td>NaN</td>\n",
              "      <td>NaN</td>\n",
              "      <td>NaN</td>\n",
              "      <td>872</td>\n",
              "      <td>NaN</td>\n",
              "      <td>NaN</td>\n",
              "      <td>NaN</td>\n",
              "      <td>NaN</td>\n",
              "      <td>NaN</td>\n",
              "      <td>NaN</td>\n",
              "      <td>217</td>\n",
              "      <td>NaN</td>\n",
              "      <td>NaN</td>\n",
              "      <td>NaN</td>\n",
              "      <td>672</td>\n",
              "      <td>1348</td>\n",
              "      <td>1174</td>\n",
              "      <td>NaN</td>\n",
              "      <td>3</td>\n",
              "    </tr>\n",
              "    <tr>\n",
              "      <th>1</th>\n",
              "      <td>1991</td>\n",
              "      <td>2</td>\n",
              "      <td>732</td>\n",
              "      <td>NaN</td>\n",
              "      <td>17</td>\n",
              "      <td>NaN</td>\n",
              "      <td>175</td>\n",
              "      <td>3421</td>\n",
              "      <td>NaN</td>\n",
              "      <td>NaN</td>\n",
              "      <td>NaN</td>\n",
              "      <td>357</td>\n",
              "      <td>171</td>\n",
              "      <td>1097</td>\n",
              "      <td>64</td>\n",
              "      <td>963</td>\n",
              "      <td>432</td>\n",
              "      <td>35</td>\n",
              "      <td>NaN</td>\n",
              "      <td>NaN</td>\n",
              "      <td>NaN</td>\n",
              "      <td>NaN</td>\n",
              "      <td>NaN</td>\n",
              "      <td>142</td>\n",
              "      <td>3261</td>\n",
              "      <td>1850</td>\n",
              "      <td>1066</td>\n",
              "      <td>NaN</td>\n",
              "      <td>NaN</td>\n",
              "      <td>NaN</td>\n",
              "      <td>3309</td>\n",
              "      <td>6225</td>\n",
              "      <td>NaN</td>\n",
              "      <td>NaN</td>\n",
              "      <td>NaN</td>\n",
              "      <td>NaN</td>\n",
              "      <td>127</td>\n",
              "      <td>NaN</td>\n",
              "      <td>NaN</td>\n",
              "      <td>NaN</td>\n",
              "      <td>751</td>\n",
              "      <td>NaN</td>\n",
              "      <td>NaN</td>\n",
              "      <td>NaN</td>\n",
              "      <td>NaN</td>\n",
              "      <td>NaN</td>\n",
              "      <td>NaN</td>\n",
              "      <td>209</td>\n",
              "      <td>NaN</td>\n",
              "      <td>NaN</td>\n",
              "      <td>NaN</td>\n",
              "      <td>749</td>\n",
              "      <td>1395</td>\n",
              "      <td>1097</td>\n",
              "      <td>NaN</td>\n",
              "      <td>3</td>\n",
              "    </tr>\n",
              "    <tr>\n",
              "      <th>2</th>\n",
              "      <td>1991</td>\n",
              "      <td>3</td>\n",
              "      <td>713</td>\n",
              "      <td>NaN</td>\n",
              "      <td>25</td>\n",
              "      <td>NaN</td>\n",
              "      <td>216</td>\n",
              "      <td>3613</td>\n",
              "      <td>NaN</td>\n",
              "      <td>NaN</td>\n",
              "      <td>NaN</td>\n",
              "      <td>443</td>\n",
              "      <td>191</td>\n",
              "      <td>1265</td>\n",
              "      <td>71</td>\n",
              "      <td>963</td>\n",
              "      <td>422</td>\n",
              "      <td>43</td>\n",
              "      <td>NaN</td>\n",
              "      <td>NaN</td>\n",
              "      <td>NaN</td>\n",
              "      <td>NaN</td>\n",
              "      <td>NaN</td>\n",
              "      <td>131</td>\n",
              "      <td>3529</td>\n",
              "      <td>2084</td>\n",
              "      <td>1062</td>\n",
              "      <td>NaN</td>\n",
              "      <td>NaN</td>\n",
              "      <td>NaN</td>\n",
              "      <td>3573</td>\n",
              "      <td>6719</td>\n",
              "      <td>NaN</td>\n",
              "      <td>NaN</td>\n",
              "      <td>NaN</td>\n",
              "      <td>NaN</td>\n",
              "      <td>80</td>\n",
              "      <td>NaN</td>\n",
              "      <td>NaN</td>\n",
              "      <td>NaN</td>\n",
              "      <td>789</td>\n",
              "      <td>NaN</td>\n",
              "      <td>NaN</td>\n",
              "      <td>NaN</td>\n",
              "      <td>NaN</td>\n",
              "      <td>NaN</td>\n",
              "      <td>NaN</td>\n",
              "      <td>188</td>\n",
              "      <td>NaN</td>\n",
              "      <td>NaN</td>\n",
              "      <td>NaN</td>\n",
              "      <td>738</td>\n",
              "      <td>1385</td>\n",
              "      <td>1265</td>\n",
              "      <td>NaN</td>\n",
              "      <td>3</td>\n",
              "    </tr>\n",
              "    <tr>\n",
              "      <th>3</th>\n",
              "      <td>1991</td>\n",
              "      <td>4</td>\n",
              "      <td>634</td>\n",
              "      <td>NaN</td>\n",
              "      <td>20</td>\n",
              "      <td>NaN</td>\n",
              "      <td>200</td>\n",
              "      <td>3211</td>\n",
              "      <td>NaN</td>\n",
              "      <td>NaN</td>\n",
              "      <td>NaN</td>\n",
              "      <td>425</td>\n",
              "      <td>199</td>\n",
              "      <td>1415</td>\n",
              "      <td>81</td>\n",
              "      <td>1186</td>\n",
              "      <td>354</td>\n",
              "      <td>36</td>\n",
              "      <td>NaN</td>\n",
              "      <td>NaN</td>\n",
              "      <td>NaN</td>\n",
              "      <td>NaN</td>\n",
              "      <td>NaN</td>\n",
              "      <td>112</td>\n",
              "      <td>3808</td>\n",
              "      <td>2085</td>\n",
              "      <td>1195</td>\n",
              "      <td>NaN</td>\n",
              "      <td>NaN</td>\n",
              "      <td>NaN</td>\n",
              "      <td>3290</td>\n",
              "      <td>6570</td>\n",
              "      <td>NaN</td>\n",
              "      <td>NaN</td>\n",
              "      <td>NaN</td>\n",
              "      <td>NaN</td>\n",
              "      <td>133</td>\n",
              "      <td>NaN</td>\n",
              "      <td>NaN</td>\n",
              "      <td>NaN</td>\n",
              "      <td>787</td>\n",
              "      <td>NaN</td>\n",
              "      <td>NaN</td>\n",
              "      <td>NaN</td>\n",
              "      <td>NaN</td>\n",
              "      <td>NaN</td>\n",
              "      <td>NaN</td>\n",
              "      <td>140</td>\n",
              "      <td>NaN</td>\n",
              "      <td>NaN</td>\n",
              "      <td>NaN</td>\n",
              "      <td>654</td>\n",
              "      <td>1540</td>\n",
              "      <td>1415</td>\n",
              "      <td>NaN</td>\n",
              "      <td>3</td>\n",
              "    </tr>\n",
              "    <tr>\n",
              "      <th>4</th>\n",
              "      <td>1991</td>\n",
              "      <td>5</td>\n",
              "      <td>650</td>\n",
              "      <td>NaN</td>\n",
              "      <td>20</td>\n",
              "      <td>NaN</td>\n",
              "      <td>146</td>\n",
              "      <td>3051</td>\n",
              "      <td>NaN</td>\n",
              "      <td>NaN</td>\n",
              "      <td>NaN</td>\n",
              "      <td>553</td>\n",
              "      <td>231</td>\n",
              "      <td>1449</td>\n",
              "      <td>82</td>\n",
              "      <td>931</td>\n",
              "      <td>335</td>\n",
              "      <td>27</td>\n",
              "      <td>NaN</td>\n",
              "      <td>NaN</td>\n",
              "      <td>NaN</td>\n",
              "      <td>NaN</td>\n",
              "      <td>NaN</td>\n",
              "      <td>147</td>\n",
              "      <td>3755</td>\n",
              "      <td>2185</td>\n",
              "      <td>723</td>\n",
              "      <td>NaN</td>\n",
              "      <td>NaN</td>\n",
              "      <td>NaN</td>\n",
              "      <td>3546</td>\n",
              "      <td>6454</td>\n",
              "      <td>NaN</td>\n",
              "      <td>NaN</td>\n",
              "      <td>NaN</td>\n",
              "      <td>NaN</td>\n",
              "      <td>163</td>\n",
              "      <td>NaN</td>\n",
              "      <td>NaN</td>\n",
              "      <td>NaN</td>\n",
              "      <td>845</td>\n",
              "      <td>NaN</td>\n",
              "      <td>NaN</td>\n",
              "      <td>NaN</td>\n",
              "      <td>NaN</td>\n",
              "      <td>NaN</td>\n",
              "      <td>NaN</td>\n",
              "      <td>78</td>\n",
              "      <td>NaN</td>\n",
              "      <td>NaN</td>\n",
              "      <td>NaN</td>\n",
              "      <td>670</td>\n",
              "      <td>1266</td>\n",
              "      <td>1449</td>\n",
              "      <td>NaN</td>\n",
              "      <td>3</td>\n",
              "    </tr>\n",
              "  </tbody>\n",
              "</table>\n",
              "</div>"
            ],
            "text/plain": [
              "   vano  mes  hom_doloso  ...  indicador_roubo_veic  registro_ocorrencias  fase\n",
              "0  1991    1         657  ...                  1174                   NaN     3\n",
              "1  1991    2         732  ...                  1097                   NaN     3\n",
              "2  1991    3         713  ...                  1265                   NaN     3\n",
              "3  1991    4         634  ...                  1415                   NaN     3\n",
              "4  1991    5         650  ...                  1449                   NaN     3\n",
              "\n",
              "[5 rows x 56 columns]"
            ]
          },
          "metadata": {
            "tags": []
          },
          "execution_count": 77
        }
      ]
    },
    {
      "cell_type": "markdown",
      "metadata": {
        "id": "ID0R8bbL2sK9",
        "colab_type": "text"
      },
      "source": [
        "### Tamanho do dataframe e valores ausentes\n",
        "\n",
        "O formato do dataframe apresenta diversos valores ausentes devido à forma com que o mesmo foi preenchido ou em que começaram a ser registrados certos tipos de ocorrências. Por exemplo, variáveis relacionadas à bicicletas possuem o mesmo padrão de ausência de valores. "
      ]
    },
    {
      "cell_type": "code",
      "metadata": {
        "id": "iK8ssX2U26DL",
        "colab_type": "code",
        "colab": {
          "base_uri": "https://localhost:8080/",
          "height": 1000
        },
        "outputId": "3ac39437-6075-4a77-800c-7da229545ce5"
      },
      "source": [
        "# mostrando o tamanho do dataframe\n",
        "print(\"Entradas:\\t{}\".format(df.shape[0]))\n",
        "print(\"Variáveis:\\t{}\\n\".format(df.shape[1]))\n",
        "\n",
        "# encontrando percentual de valores ausentes\n",
        "print((df.isnull().sum()/len(df)).sort_values(ascending=False))\n",
        "\n",
        "# plotar matrix de perfil das variáveis em relação à valores faltantes\n",
        "msno.matrix(df,labels=True)\n",
        "plt.show()"
      ],
      "execution_count": null,
      "outputs": [
        {
          "output_type": "stream",
          "text": [
            "Entradas:\t344\n",
            "Variáveis:\t56\n",
            "\n",
            "roubo_bicicleta               0.802326\n",
            "furto_bicicleta               0.802326\n",
            "apreensao_drogas_sem_autor    0.523256\n",
            "posse_drogas                  0.523256\n",
            "apf                           0.523256\n",
            "aaapai                        0.523256\n",
            "cmp                           0.523256\n",
            "trafico_drogas                0.523256\n",
            "cmba                          0.523256\n",
            "sequestro_relampago           0.418605\n",
            "furto_coletivo                0.418605\n",
            "extorsao                      0.418605\n",
            "furto_celular                 0.418605\n",
            "roubo_apos_saque              0.418605\n",
            "roubo_conducao_saque          0.418605\n",
            "roubo_cx_eletronico           0.418605\n",
            "estupro                       0.418605\n",
            "estelionato                   0.418605\n",
            "pol_civis_mortos_serv         0.418605\n",
            "pol_militares_mortos_serv     0.418605\n",
            "pessoas_desaparecidas         0.383721\n",
            "encontro_ossada               0.383721\n",
            "roubo_celular                 0.313953\n",
            "lesao_corp_culposa            0.279070\n",
            "ameaca                        0.279070\n",
            "sequestro                     0.279070\n",
            "lesao_corp_morte              0.279070\n",
            "registro_ocorrencias          0.279070\n",
            "hom_por_interv_policial       0.244186\n",
            "hom_culposo                   0.244186\n",
            "tentat_hom                    0.000000\n",
            "roubo_comercio                0.000000\n",
            "roubo_residencia              0.000000\n",
            "latrocinio                    0.000000\n",
            "lesao_corp_dolosa             0.000000\n",
            "hom_doloso                    0.000000\n",
            "roubo_transeunte              0.000000\n",
            "mes                           0.000000\n",
            "roubo_veiculo                 0.000000\n",
            "roubo_carga                   0.000000\n",
            "fase                          0.000000\n",
            "roubo_em_coletivo             0.000000\n",
            "roubo_banco                   0.000000\n",
            "outros_roubos                 0.000000\n",
            "total_roubos                  0.000000\n",
            "furto_veiculos                0.000000\n",
            "furto_transeunte              0.000000\n",
            "outros_furtos                 0.000000\n",
            "total_furtos                  0.000000\n",
            "apreensao_drogas              0.000000\n",
            "recuperacao_veiculos          0.000000\n",
            "encontro_cadaver              0.000000\n",
            "indicador_letalidade          0.000000\n",
            "indicador_roubo_rua           0.000000\n",
            "indicador_roubo_veic          0.000000\n",
            "vano                          0.000000\n",
            "dtype: float64\n"
          ],
          "name": "stdout"
        },
        {
          "output_type": "display_data",
          "data": {
            "image/png": "[encoded data removed]",
            "text/plain": [
              "<Figure size 1800x720 with 2 Axes>"
            ]
          },
          "metadata": {
            "tags": [],
            "needs_background": "light"
          }
        }
      ]
    },
    {
      "cell_type": "markdown",
      "metadata": {
        "id": "G6dnsNYm-41g",
        "colab_type": "text"
      },
      "source": [
        "## Recuperação de veículos em furtos e roubos \n",
        "\n",
        "Para essa parte da análise, visto o perfil do dataframe disponível, iremos nos ater basicamente a três variáveis: `roubo_veiculo`, `furto_veiculos` e `recuperacao_veiculos`. Somente para uma melhor contextualização, o crime de furto não envolve ato violento, ao contrário do roubo. Portanto, iremos utilizar o método `describe()` para nos situar de uma forma geral sobre essas três variáveis, pois nosso foco nesta parte será analisarmos o percentual de recuperação de veículos, que se dá pela seguinte fórmula:\n",
        "\n",
        "$$\\frac{\\text{recuperacao_veiculos}}{\\text{roubo_veiculo} + \\text{furto_veiculos}}$$\n"
      ]
    },
    {
      "cell_type": "code",
      "metadata": {
        "id": "Wdj-ADI__BuJ",
        "colab_type": "code",
        "colab": {
          "base_uri": "https://localhost:8080/",
          "height": 297
        },
        "outputId": "04f95dd6-951b-4ff9-edba-6c81c67299d8"
      },
      "source": [
        "df[['vano','roubo_veiculo', 'furto_veiculos', 'recuperacao_veiculos']].describe()"
      ],
      "execution_count": null,
      "outputs": [
        {
          "output_type": "execute_result",
          "data": {
            "text/html": [
              "<div>\n",
              "<style scoped>\n",
              "    .dataframe tbody tr th:only-of-type {\n",
              "        vertical-align: middle;\n",
              "    }\n",
              "\n",
              "    .dataframe tbody tr th {\n",
              "        vertical-align: top;\n",
              "    }\n",
              "\n",
              "    .dataframe thead th {\n",
              "        text-align: right;\n",
              "    }\n",
              "</style>\n",
              "<table border=\"1\" class=\"dataframe\">\n",
              "  <thead>\n",
              "    <tr style=\"text-align: right;\">\n",
              "      <th></th>\n",
              "      <th>vano</th>\n",
              "      <th>roubo_veiculo</th>\n",
              "      <th>furto_veiculos</th>\n",
              "      <th>recuperacao_veiculos</th>\n",
              "    </tr>\n",
              "  </thead>\n",
              "  <tbody>\n",
              "    <tr>\n",
              "      <th>count</th>\n",
              "      <td>344.000000</td>\n",
              "      <td>344.000000</td>\n",
              "      <td>344.000000</td>\n",
              "      <td>344.000000</td>\n",
              "    </tr>\n",
              "    <tr>\n",
              "      <th>mean</th>\n",
              "      <td>2004.837209</td>\n",
              "      <td>2448.697674</td>\n",
              "      <td>1674.671512</td>\n",
              "      <td>1772.238372</td>\n",
              "    </tr>\n",
              "    <tr>\n",
              "      <th>std</th>\n",
              "      <td>8.289036</td>\n",
              "      <td>789.689559</td>\n",
              "      <td>294.852020</td>\n",
              "      <td>656.761843</td>\n",
              "    </tr>\n",
              "    <tr>\n",
              "      <th>min</th>\n",
              "      <td>1991.000000</td>\n",
              "      <td>1097.000000</td>\n",
              "      <td>1159.000000</td>\n",
              "      <td>729.000000</td>\n",
              "    </tr>\n",
              "    <tr>\n",
              "      <th>25%</th>\n",
              "      <td>1998.000000</td>\n",
              "      <td>1889.750000</td>\n",
              "      <td>1430.500000</td>\n",
              "      <td>1276.750000</td>\n",
              "    </tr>\n",
              "    <tr>\n",
              "      <th>50%</th>\n",
              "      <td>2005.000000</td>\n",
              "      <td>2322.000000</td>\n",
              "      <td>1637.500000</td>\n",
              "      <td>1755.000000</td>\n",
              "    </tr>\n",
              "    <tr>\n",
              "      <th>75%</th>\n",
              "      <td>2012.000000</td>\n",
              "      <td>2778.000000</td>\n",
              "      <td>1833.250000</td>\n",
              "      <td>2202.000000</td>\n",
              "    </tr>\n",
              "    <tr>\n",
              "      <th>max</th>\n",
              "      <td>2019.000000</td>\n",
              "      <td>5358.000000</td>\n",
              "      <td>2630.000000</td>\n",
              "      <td>3695.000000</td>\n",
              "    </tr>\n",
              "  </tbody>\n",
              "</table>\n",
              "</div>"
            ],
            "text/plain": [
              "              vano  roubo_veiculo  furto_veiculos  recuperacao_veiculos\n",
              "count   344.000000     344.000000      344.000000            344.000000\n",
              "mean   2004.837209    2448.697674     1674.671512           1772.238372\n",
              "std       8.289036     789.689559      294.852020            656.761843\n",
              "min    1991.000000    1097.000000     1159.000000            729.000000\n",
              "25%    1998.000000    1889.750000     1430.500000           1276.750000\n",
              "50%    2005.000000    2322.000000     1637.500000           1755.000000\n",
              "75%    2012.000000    2778.000000     1833.250000           2202.000000\n",
              "max    2019.000000    5358.000000     2630.000000           3695.000000"
            ]
          },
          "metadata": {
            "tags": []
          },
          "execution_count": 79
        }
      ]
    },
    {
      "cell_type": "markdown",
      "metadata": {
        "id": "2c-W8h6OGOpw",
        "colab_type": "text"
      },
      "source": [
        "Analisando o resultado do método `describe()`, aparamente não temos outliers siginificativos à ponto de necessitar alguma tratativa neste caso.\n",
        "\n",
        "De posse dos dados entre 1991 e 2019, vamos averiguar quais são as médias mensais de furto, roubo e recuperação de veículos"
      ]
    },
    {
      "cell_type": "code",
      "metadata": {
        "id": "7M7a44wcQvrG",
        "colab_type": "code",
        "colab": {
          "base_uri": "https://localhost:8080/",
          "height": 85
        },
        "outputId": "7b8fe211-cb61-479d-866c-32870501cfbd"
      },
      "source": [
        "# cálculo das médias mensais das variáveis para todo o dataframe\n",
        "roubo_veiculo_media_global = df.roubo_veiculo.mean()\n",
        "furto_veiculos_media_global = df.furto_veiculos.mean()\n",
        "recuperacao_veiculos_media_global = df.recuperacao_veiculos.mean()\n",
        "porcentagem_recuperacao_media_global = 100 * recuperacao_veiculos_media_global / (roubo_veiculo_media_global + furto_veiculos_media_global)\n",
        "\n",
        "print(\"Média mensal de roubo:\\t{:.2f}\".format(roubo_veiculo_media_global))\n",
        "print(\"Média mensal de furto:\\t{:.2f}\".format(furto_veiculos_media_global))\n",
        "print(\"Média mensal de recuperação:\\t{:.2f}\".format(recuperacao_veiculos_media_global))\n",
        "print(\"Porcentagem global de recuperação:\\t{:.2f}%\".format(porcentagem_recuperacao_media_global))"
      ],
      "execution_count": null,
      "outputs": [
        {
          "output_type": "stream",
          "text": [
            "Média mensal de roubo:\t2448.70\n",
            "Média mensal de furto:\t1674.67\n",
            "Média mensal de recuperação:\t1772.24\n",
            "Porcentagem global de recuperação:\t42.98%\n"
          ],
          "name": "stdout"
        }
      ]
    },
    {
      "cell_type": "markdown",
      "metadata": {
        "id": "jveKfZBsS0m-",
        "colab_type": "text"
      },
      "source": [
        "Podemos perceber que considerando todas as entradas entre os anos de 1991 e 2019, na média a recuperação de veículos estaria entre 42,98% dividindo-se a média de `recuperacao_veiculos` pela soma das médias de `roubo_veiculo` com `furto_veiculo`. \n",
        "\n",
        "Contudo, uma outra análise pertinenten seria avaliar como o percentual de recuperação de veículos vem se desenvolvendo ao longo dos anos no Rio de Janeiro"
      ]
    },
    {
      "cell_type": "code",
      "metadata": {
        "id": "98EqoaMwBSmT",
        "colab_type": "code",
        "colab": {
          "base_uri": "https://localhost:8080/",
          "height": 482
        },
        "outputId": "b66329e2-398c-4e08-9c0f-fc7106d1aef1"
      },
      "source": [
        "# cálculo das médias das variáveis por ano\n",
        "df_roubo_veiculo = df.groupby(by=['vano']).roubo_veiculo.mean()\n",
        "df_furto_veiculos = df.groupby(by=['vano']).furto_veiculos.mean()\n",
        "df_recuperacao_veiculos = df.groupby(by=['vano']).recuperacao_veiculos.mean()\n",
        "\n",
        "# construção do dataframe auxiliar das médias\n",
        "df_veiculos = pd.concat([df_roubo_veiculo, df_furto_veiculos, df_recuperacao_veiculos], axis=1).reset_index()\n",
        "df_veiculos.columns = ['ano','roubo_veiculo_media', 'furto_veiculos_media', 'recuperacao_veiculos_media']\n",
        "df_veiculos['porcentagem_recuperacao'] = 100 * df_veiculos.recuperacao_veiculos_media / (df_veiculos.roubo_veiculo_media + df_veiculos.furto_veiculos_media)\n",
        "\n",
        "# apresentando novo dataframe de roubo, furto e recuperacao de veículos, junto com o gráfico de evolução do percentual de recuperação de veículos \n",
        "df_veiculos.plot(x='ano',y='porcentagem_recuperacao',lw=2, colormap='ocean', marker='.', markersize=10, title='Evolução do percentual de recuperação de veículos no Rio de Janeiro')\n",
        "plt.show()\n",
        "df_veiculos.head()"
      ],
      "execution_count": null,
      "outputs": [
        {
          "output_type": "display_data",
          "data": {
            "image/png": "[encoded data removed]",
            "text/plain": [
              "<Figure size 432x288 with 1 Axes>"
            ]
          },
          "metadata": {
            "tags": [],
            "needs_background": "light"
          }
        },
        {
          "output_type": "execute_result",
          "data": {
            "text/html": [
              "<div>\n",
              "<style scoped>\n",
              "    .dataframe tbody tr th:only-of-type {\n",
              "        vertical-align: middle;\n",
              "    }\n",
              "\n",
              "    .dataframe tbody tr th {\n",
              "        vertical-align: top;\n",
              "    }\n",
              "\n",
              "    .dataframe thead th {\n",
              "        text-align: right;\n",
              "    }\n",
              "</style>\n",
              "<table border=\"1\" class=\"dataframe\">\n",
              "  <thead>\n",
              "    <tr style=\"text-align: right;\">\n",
              "      <th></th>\n",
              "      <th>ano</th>\n",
              "      <th>roubo_veiculo_media</th>\n",
              "      <th>furto_veiculos_media</th>\n",
              "      <th>recuperacao_veiculos_media</th>\n",
              "      <th>porcentagem_recuperacao</th>\n",
              "    </tr>\n",
              "  </thead>\n",
              "  <tbody>\n",
              "    <tr>\n",
              "      <th>0</th>\n",
              "      <td>1991</td>\n",
              "      <td>1371.000000</td>\n",
              "      <td>1998.250000</td>\n",
              "      <td>824.166667</td>\n",
              "      <td>24.461428</td>\n",
              "    </tr>\n",
              "    <tr>\n",
              "      <th>1</th>\n",
              "      <td>1992</td>\n",
              "      <td>2041.833333</td>\n",
              "      <td>2301.583333</td>\n",
              "      <td>937.166667</td>\n",
              "      <td>21.576716</td>\n",
              "    </tr>\n",
              "    <tr>\n",
              "      <th>2</th>\n",
              "      <td>1993</td>\n",
              "      <td>2065.833333</td>\n",
              "      <td>2241.416667</td>\n",
              "      <td>968.250000</td>\n",
              "      <td>22.479540</td>\n",
              "    </tr>\n",
              "    <tr>\n",
              "      <th>3</th>\n",
              "      <td>1994</td>\n",
              "      <td>2289.166667</td>\n",
              "      <td>2185.916667</td>\n",
              "      <td>1335.833333</td>\n",
              "      <td>29.850468</td>\n",
              "    </tr>\n",
              "    <tr>\n",
              "      <th>4</th>\n",
              "      <td>1995</td>\n",
              "      <td>1973.000000</td>\n",
              "      <td>1827.333333</td>\n",
              "      <td>1468.500000</td>\n",
              "      <td>38.641347</td>\n",
              "    </tr>\n",
              "  </tbody>\n",
              "</table>\n",
              "</div>"
            ],
            "text/plain": [
              "    ano  ...  porcentagem_recuperacao\n",
              "0  1991  ...                24.461428\n",
              "1  1992  ...                21.576716\n",
              "2  1993  ...                22.479540\n",
              "3  1994  ...                29.850468\n",
              "4  1995  ...                38.641347\n",
              "\n",
              "[5 rows x 5 columns]"
            ]
          },
          "metadata": {
            "tags": []
          },
          "execution_count": 81
        }
      ]
    },
    {
      "cell_type": "markdown",
      "metadata": {
        "id": "F9BySaSbL80X",
        "colab_type": "text"
      },
      "source": [
        "Pelo gráfico, podemos perceber que houve um aumento na efetividade da recuperação de veículos do início da década de 90, com uma queda em meados de 1997 mas retornando a crescer até meados de 2003. Contudo, de 2003 à 2020 houve quem em mais de 10 p.p mas atualmente retornando quase ao mesmo partamar de 2004 (em torno de 55%)."
      ]
    },
    {
      "cell_type": "markdown",
      "metadata": {
        "id": "7WK0NBQZASKC",
        "colab_type": "text"
      },
      "source": [
        "## Homicidios dolosos\n",
        "\n",
        "Homicídio doloso é aquele caso em há a intenção de matar ou o sujeito assume o risco de fazê-lo. Os casos dessa natureza estão representados no dataframe pela variável `hom_doloso`. \n",
        "\n",
        "Vamos analisar um histograma da varíavel, além de observamos quais foram os anos com o máximo e minímo de casos dessa natureza. Histogramas são poderosas ferramentas de visualização, que nos auxiliam a entender a distribuição dos valores em uma variável."
      ]
    },
    {
      "cell_type": "code",
      "metadata": {
        "id": "3e2IEmDWJzOs",
        "colab_type": "code",
        "colab": {
          "base_uri": "https://localhost:8080/",
          "height": 265
        },
        "outputId": "fbd473bb-926f-4bcd-b08e-6d21cb45d95a"
      },
      "source": [
        "# plotando o histograma sobre homicídios dolosos\n",
        "df.hom_doloso.hist()\n",
        "plt.show()"
      ],
      "execution_count": null,
      "outputs": [
        {
          "output_type": "display_data",
          "data": {
            "image/png": "[encoded data removed]",
            "text/plain": [
              "<Figure size 432x288 with 1 Axes>"
            ]
          },
          "metadata": {
            "tags": [],
            "needs_background": "light"
          }
        }
      ]
    },
    {
      "cell_type": "markdown",
      "metadata": {
        "id": "922djdl8Tcdn",
        "colab_type": "text"
      },
      "source": [
        "Algumas observações possíveis com base no histograma acima:\n",
        "\n",
        "* Houveram quase 70 meses com homicídios dolosos entre 500 e550  registrados ao longo do período em estudo.\n",
        "* Houveram menos de 10 meses ao longo de todo o período estudado na casa de 800 registros de homicídio doloso.\n",
        "* O histograma apresenta uma distribuição normal em torno da média de ocorências e não há indícios preliminares sobre a presença de outliers na variável."
      ]
    },
    {
      "cell_type": "markdown",
      "metadata": {
        "id": "ULlkJWwWUMGE",
        "colab_type": "text"
      },
      "source": [
        "Agora vamos identificar qual foi o máximo e mínimo registrado para a variável hom_doloso ao longo do período observado no dataset."
      ]
    },
    {
      "cell_type": "code",
      "metadata": {
        "id": "83asaMIyUY3x",
        "colab_type": "code",
        "colab": {
          "base_uri": "https://localhost:8080/",
          "height": 51
        },
        "outputId": "623248d0-6343-4d46-e14f-f78515c7e3f0"
      },
      "source": [
        "# valores max e min de hom_doloso\n",
        "max_hom_doloso = df.hom_doloso.max()\n",
        "min_hom_doloso = df.hom_doloso.min()\n",
        "\n",
        "# imprimir os valores máximos e mínimos\n",
        "print(\"Min:\\t{} casos\".format(min_hom_doloso))\n",
        "print(\"Max:\\t{} casos\".format(max_hom_doloso))"
      ],
      "execution_count": null,
      "outputs": [
        {
          "output_type": "stream",
          "text": [
            "Min:\t272 casos\n",
            "Max:\t831 casos\n"
          ],
          "name": "stdout"
        }
      ]
    },
    {
      "cell_type": "markdown",
      "metadata": {
        "id": "HWpmP8l5UjKI",
        "colab_type": "text"
      },
      "source": [
        "De posse dos valores máximos e mínimos de homícios dolosos, vamos analisar em qual e mês ocorreram esses valores."
      ]
    },
    {
      "cell_type": "code",
      "metadata": {
        "id": "U6vRYVTxUv2D",
        "colab_type": "code",
        "colab": {
          "base_uri": "https://localhost:8080/",
          "height": 80
        },
        "outputId": "166a4d5e-e987-4c49-d34b-d274eb5a6717"
      },
      "source": [
        "# Ano e mês para o registro mínimo de homícios dolosos\n",
        "df[['vano', 'mes', 'hom_doloso']][df.hom_doloso == min_hom_doloso]"
      ],
      "execution_count": null,
      "outputs": [
        {
          "output_type": "execute_result",
          "data": {
            "text/html": [
              "<div>\n",
              "<style scoped>\n",
              "    .dataframe tbody tr th:only-of-type {\n",
              "        vertical-align: middle;\n",
              "    }\n",
              "\n",
              "    .dataframe tbody tr th {\n",
              "        vertical-align: top;\n",
              "    }\n",
              "\n",
              "    .dataframe thead th {\n",
              "        text-align: right;\n",
              "    }\n",
              "</style>\n",
              "<table border=\"1\" class=\"dataframe\">\n",
              "  <thead>\n",
              "    <tr style=\"text-align: right;\">\n",
              "      <th></th>\n",
              "      <th>vano</th>\n",
              "      <th>mes</th>\n",
              "      <th>hom_doloso</th>\n",
              "    </tr>\n",
              "  </thead>\n",
              "  <tbody>\n",
              "    <tr>\n",
              "      <th>293</th>\n",
              "      <td>2015</td>\n",
              "      <td>6</td>\n",
              "      <td>272</td>\n",
              "    </tr>\n",
              "  </tbody>\n",
              "</table>\n",
              "</div>"
            ],
            "text/plain": [
              "     vano  mes  hom_doloso\n",
              "293  2015    6         272"
            ]
          },
          "metadata": {
            "tags": []
          },
          "execution_count": 84
        }
      ]
    },
    {
      "cell_type": "code",
      "metadata": {
        "id": "8EM7YNqnVuGr",
        "colab_type": "code",
        "colab": {
          "base_uri": "https://localhost:8080/",
          "height": 80
        },
        "outputId": "7114f545-d43b-47e7-cc57-317e70fdee67"
      },
      "source": [
        "# Ano e mês para o registro máximo de homícios dolosos\n",
        "df[['vano', 'mes', 'hom_doloso']][df.hom_doloso == max_hom_doloso]"
      ],
      "execution_count": null,
      "outputs": [
        {
          "output_type": "execute_result",
          "data": {
            "text/html": [
              "<div>\n",
              "<style scoped>\n",
              "    .dataframe tbody tr th:only-of-type {\n",
              "        vertical-align: middle;\n",
              "    }\n",
              "\n",
              "    .dataframe tbody tr th {\n",
              "        vertical-align: top;\n",
              "    }\n",
              "\n",
              "    .dataframe thead th {\n",
              "        text-align: right;\n",
              "    }\n",
              "</style>\n",
              "<table border=\"1\" class=\"dataframe\">\n",
              "  <thead>\n",
              "    <tr style=\"text-align: right;\">\n",
              "      <th></th>\n",
              "      <th>vano</th>\n",
              "      <th>mes</th>\n",
              "      <th>hom_doloso</th>\n",
              "    </tr>\n",
              "  </thead>\n",
              "  <tbody>\n",
              "    <tr>\n",
              "      <th>48</th>\n",
              "      <td>1995</td>\n",
              "      <td>1</td>\n",
              "      <td>831</td>\n",
              "    </tr>\n",
              "  </tbody>\n",
              "</table>\n",
              "</div>"
            ],
            "text/plain": [
              "    vano  mes  hom_doloso\n",
              "48  1995    1         831"
            ]
          },
          "metadata": {
            "tags": []
          },
          "execution_count": 85
        }
      ]
    },
    {
      "cell_type": "markdown",
      "metadata": {
        "id": "RJMTReGkXFoH",
        "colab_type": "text"
      },
      "source": [
        "O maior registro de homícios dolosos aconteceu em 1995 e o menor em 2015, ou seja, 20 anos depois. Isso é um bom sinal mas não que não pode afirmar essa tendência de redução. Para confirmarmos essa hipotese, vamos plotar um gráfico de registro de homícios dolosos registradados por ano."
      ]
    },
    {
      "cell_type": "code",
      "metadata": {
        "id": "jljyu5G0YGvQ",
        "colab_type": "code",
        "colab": {
          "base_uri": "https://localhost:8080/",
          "height": 295
        },
        "outputId": "34385a92-c075-4959-996d-7289c54fad37"
      },
      "source": [
        "# plotar o gráfico sobre a evolução da quantidade de registro de homícios dolosos por ano no Rio de Janeiro\n",
        "df_hom_doloso = df.groupby(by=['vano']).hom_doloso.sum()\n",
        "\n",
        "ax = df_hom_doloso.plot(lw=2, colormap='bone', marker='.', markersize=10, title='Evolução da quantidade de homícios dolosos no Rio de Janeiro')\n",
        "ax.set_xlabel(\"Ano\")\n",
        "ax.set_ylabel(\"Qtd total de homicídios dolosos no ano\")\n",
        "plt.show()"
      ],
      "execution_count": null,
      "outputs": [
        {
          "output_type": "display_data",
          "data": {
            "image/png": "[encoded data removed]",
            "text/plain": [
              "<Figure size 432x288 with 1 Axes>"
            ]
          },
          "metadata": {
            "tags": [],
            "needs_background": "light"
          }
        }
      ]
    },
    {
      "cell_type": "markdown",
      "metadata": {
        "id": "IUqGHQjIJPTo",
        "colab_type": "text"
      },
      "source": [
        "## Roubos em coletivos\n",
        "\n",
        "Portanto Gráfico de linhas para a variável `roubo_em_coletivo`"
      ]
    },
    {
      "cell_type": "code",
      "metadata": {
        "id": "RfYSyrT6iRxA",
        "colab_type": "code",
        "colab": {
          "base_uri": "https://localhost:8080/",
          "height": 295
        },
        "outputId": "af07cb28-5f77-4aef-86a1-7939bdc41d12"
      },
      "source": [
        "# plotar o gráfico sobre a evolução da quantidade roubos em coletivo por ano no Rio de Janeiro\n",
        "df_roubo_em_coletivo = df.groupby(by=['vano']).roubo_em_coletivo.sum()\n",
        "\n",
        "ax1 = df_roubo_em_coletivo.plot(lw=2, colormap='jet', marker='.', markersize=10, title='Evolução de roubos em coletivos no Rio de Janeiro')\n",
        "ax1.set_xlabel(\"Ano\")\n",
        "ax1.set_ylabel(\"Qtd total de roubos em coletivos no ano\")\n",
        "plt.show()"
      ],
      "execution_count": null,
      "outputs": [
        {
          "output_type": "display_data",
          "data": {
            "image/png": "[encoded data removed]",
            "text/plain": [
              "<Figure size 432x288 with 1 Axes>"
            ]
          },
          "metadata": {
            "tags": [],
            "needs_background": "light"
          }
        }
      ]
    },
    {
      "cell_type": "markdown",
      "metadata": {
        "id": "LCsiXvM3BcsO",
        "colab_type": "text"
      },
      "source": [
        "## Conclusão\n",
        "\n",
        "O projeto em questão conseguiu trazer luz à alguns aspectos do complexo cenário de violência que assola o Rio de Janeiro há décadas. Foi possível chegar aos seguintes insights, alguns indo na contra-mão do senso comum:\n",
        "\n",
        "* A recuperação de veículos subtraídos no Rio de Janeiro vêm uma têndencia de crescimento nas últimas duas décadas\n",
        "* Quantidade de homicidios dolosos apresenta uma têndencia de redução bastante acelerada se consideramos a quantidade casos no início da década de 90 e quantidade de casos de 2019.\n",
        "* No aspecto de roubos em coletivo, infelizmente o Rio de Janeiro demonstra uma têndencia de crescimento dos casos, especialmente de forma acelerada à partir de 2011.\n",
        "\n",
        "Outro aprendizado possível com a análise foi a necessidade de se atentar a cada detalhe do seu *dataset* quando se está lidando com dados reais, extraídos diretamente de sites e portais com dados abertos.\n",
        "\n",
        "Muitas vezes, nos acostumamos a usar dados de competições ou cursos, que estão perfeitos.\n",
        "\n",
        "Importante ressaltar que a etapa de aquisição, tratamento e exploração dos dados é o que mais vai consumir o tempo de um projeto de Data Science."
      ]
    }
  ]
}